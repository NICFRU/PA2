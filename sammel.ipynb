{
 "cells": [
  {
   "cell_type": "code",
   "execution_count": 1,
   "metadata": {},
   "outputs": [],
   "source": [
    "import pandas as pd\n",
    "import numpy as np\n",
    "import matplotlib as mlt\n",
    "import matplotlib.pyplot as plt"
   ]
  },
  {
   "cell_type": "code",
   "execution_count": 2,
   "metadata": {},
   "outputs": [],
   "source": [
    "filename='processed\\SAP_Test_Data_BKPF Table.txt_processed'\n",
    "#filename='processed\\SAP_Test_Data_GLT0 Table.txt_processed'\n",
    "#filename='processed\\SAP_Test_Data_BSEG Table.txt_processed'"
   ]
  },
  {
   "cell_type": "code",
   "execution_count": 3,
   "metadata": {},
   "outputs": [
    {
     "data": {
      "text/html": [
       "<div>\n",
       "<style scoped>\n",
       "    .dataframe tbody tr th:only-of-type {\n",
       "        vertical-align: middle;\n",
       "    }\n",
       "\n",
       "    .dataframe tbody tr th {\n",
       "        vertical-align: top;\n",
       "    }\n",
       "\n",
       "    .dataframe thead th {\n",
       "        text-align: right;\n",
       "    }\n",
       "</style>\n",
       "<table border=\"1\" class=\"dataframe\">\n",
       "  <thead>\n",
       "    <tr style=\"text-align: right;\">\n",
       "      <th></th>\n",
       "      <th>Buchungskreis</th>\n",
       "      <th>Belegnummer</th>\n",
       "      <th>Geschäftsjahr</th>\n",
       "      <th>Belegart</th>\n",
       "      <th>Belegdatum</th>\n",
       "      <th>Buchungsdatum</th>\n",
       "      <th>Buchungsperiode</th>\n",
       "      <th>Erfassungsdatum</th>\n",
       "      <th>Erfassungsuhrzeit</th>\n",
       "      <th>Geändert am</th>\n",
       "      <th>...</th>\n",
       "      <th>Übergreifende Nr</th>\n",
       "      <th>Referenz</th>\n",
       "      <th>Jahr</th>\n",
       "      <th>Belegkopftext</th>\n",
       "      <th>Währung</th>\n",
       "      <th>Umrechnungskurs</th>\n",
       "      <th>Konzernwährung</th>\n",
       "      <th>Konzernkurs</th>\n",
       "      <th>Belegstatus</th>\n",
       "      <th>Dokumentenname im Archivsystem</th>\n",
       "    </tr>\n",
       "  </thead>\n",
       "  <tbody>\n",
       "    <tr>\n",
       "      <th>0</th>\n",
       "      <td>1710</td>\n",
       "      <td>100002131</td>\n",
       "      <td>2016</td>\n",
       "      <td>SA</td>\n",
       "      <td>2016-01-01 00:00:00</td>\n",
       "      <td>2016-01-01 00:00:00</td>\n",
       "      <td>1</td>\n",
       "      <td>2016-12-15 00:00:00</td>\n",
       "      <td>1900-01-01 11:07:34</td>\n",
       "      <td>NaN</td>\n",
       "      <td>...</td>\n",
       "      <td>NaN</td>\n",
       "      <td>NaN</td>\n",
       "      <td>NaN</td>\n",
       "      <td>NaN</td>\n",
       "      <td>USD</td>\n",
       "      <td>NaN</td>\n",
       "      <td>NaN</td>\n",
       "      <td>NaN</td>\n",
       "      <td>NaN</td>\n",
       "      <td>NaN</td>\n",
       "    </tr>\n",
       "    <tr>\n",
       "      <th>1</th>\n",
       "      <td>1710</td>\n",
       "      <td>100002132</td>\n",
       "      <td>2016</td>\n",
       "      <td>SA</td>\n",
       "      <td>2016-01-01 00:00:00</td>\n",
       "      <td>2016-01-01 00:00:00</td>\n",
       "      <td>1</td>\n",
       "      <td>2016-12-15 00:00:00</td>\n",
       "      <td>1900-01-01 11:07:34</td>\n",
       "      <td>NaN</td>\n",
       "      <td>...</td>\n",
       "      <td>NaN</td>\n",
       "      <td>NaN</td>\n",
       "      <td>NaN</td>\n",
       "      <td>NaN</td>\n",
       "      <td>USD</td>\n",
       "      <td>NaN</td>\n",
       "      <td>NaN</td>\n",
       "      <td>NaN</td>\n",
       "      <td>NaN</td>\n",
       "      <td>NaN</td>\n",
       "    </tr>\n",
       "    <tr>\n",
       "      <th>2</th>\n",
       "      <td>1710</td>\n",
       "      <td>100002133</td>\n",
       "      <td>2016</td>\n",
       "      <td>SA</td>\n",
       "      <td>2016-01-01 00:00:00</td>\n",
       "      <td>2016-01-01 00:00:00</td>\n",
       "      <td>1</td>\n",
       "      <td>2016-12-15 00:00:00</td>\n",
       "      <td>1900-01-01 11:07:34</td>\n",
       "      <td>NaN</td>\n",
       "      <td>...</td>\n",
       "      <td>NaN</td>\n",
       "      <td>NaN</td>\n",
       "      <td>NaN</td>\n",
       "      <td>NaN</td>\n",
       "      <td>USD</td>\n",
       "      <td>NaN</td>\n",
       "      <td>NaN</td>\n",
       "      <td>NaN</td>\n",
       "      <td>NaN</td>\n",
       "      <td>NaN</td>\n",
       "    </tr>\n",
       "    <tr>\n",
       "      <th>3</th>\n",
       "      <td>1710</td>\n",
       "      <td>100002134</td>\n",
       "      <td>2016</td>\n",
       "      <td>SA</td>\n",
       "      <td>2016-01-01 00:00:00</td>\n",
       "      <td>2016-01-01 00:00:00</td>\n",
       "      <td>1</td>\n",
       "      <td>2016-12-15 00:00:00</td>\n",
       "      <td>1900-01-01 11:07:34</td>\n",
       "      <td>NaN</td>\n",
       "      <td>...</td>\n",
       "      <td>NaN</td>\n",
       "      <td>NaN</td>\n",
       "      <td>NaN</td>\n",
       "      <td>NaN</td>\n",
       "      <td>USD</td>\n",
       "      <td>NaN</td>\n",
       "      <td>NaN</td>\n",
       "      <td>NaN</td>\n",
       "      <td>NaN</td>\n",
       "      <td>NaN</td>\n",
       "    </tr>\n",
       "    <tr>\n",
       "      <th>4</th>\n",
       "      <td>1710</td>\n",
       "      <td>100002135</td>\n",
       "      <td>2016</td>\n",
       "      <td>SA</td>\n",
       "      <td>2016-01-01 00:00:00</td>\n",
       "      <td>2016-01-01 00:00:00</td>\n",
       "      <td>1</td>\n",
       "      <td>2016-12-15 00:00:00</td>\n",
       "      <td>1900-01-01 11:07:35</td>\n",
       "      <td>NaN</td>\n",
       "      <td>...</td>\n",
       "      <td>NaN</td>\n",
       "      <td>NaN</td>\n",
       "      <td>NaN</td>\n",
       "      <td>NaN</td>\n",
       "      <td>USD</td>\n",
       "      <td>NaN</td>\n",
       "      <td>NaN</td>\n",
       "      <td>NaN</td>\n",
       "      <td>NaN</td>\n",
       "      <td>NaN</td>\n",
       "    </tr>\n",
       "  </tbody>\n",
       "</table>\n",
       "<p>5 rows × 23 columns</p>\n",
       "</div>"
      ],
      "text/plain": [
       "  Buchungskreis Belegnummer Geschäftsjahr Belegart           Belegdatum  \\\n",
       "0          1710   100002131          2016       SA  2016-01-01 00:00:00   \n",
       "1          1710   100002132          2016       SA  2016-01-01 00:00:00   \n",
       "2          1710   100002133          2016       SA  2016-01-01 00:00:00   \n",
       "3          1710   100002134          2016       SA  2016-01-01 00:00:00   \n",
       "4          1710   100002135          2016       SA  2016-01-01 00:00:00   \n",
       "\n",
       "         Buchungsdatum Buchungsperiode      Erfassungsdatum  \\\n",
       "0  2016-01-01 00:00:00               1  2016-12-15 00:00:00   \n",
       "1  2016-01-01 00:00:00               1  2016-12-15 00:00:00   \n",
       "2  2016-01-01 00:00:00               1  2016-12-15 00:00:00   \n",
       "3  2016-01-01 00:00:00               1  2016-12-15 00:00:00   \n",
       "4  2016-01-01 00:00:00               1  2016-12-15 00:00:00   \n",
       "\n",
       "     Erfassungsuhrzeit Geändert am  ... Übergreifende Nr Referenz Jahr  \\\n",
       "0  1900-01-01 11:07:34         NaN  ...              NaN      NaN  NaN   \n",
       "1  1900-01-01 11:07:34         NaN  ...              NaN      NaN  NaN   \n",
       "2  1900-01-01 11:07:34         NaN  ...              NaN      NaN  NaN   \n",
       "3  1900-01-01 11:07:34         NaN  ...              NaN      NaN  NaN   \n",
       "4  1900-01-01 11:07:35         NaN  ...              NaN      NaN  NaN   \n",
       "\n",
       "  Belegkopftext Währung Umrechnungskurs Konzernwährung Konzernkurs  \\\n",
       "0           NaN     USD             NaN            NaN         NaN   \n",
       "1           NaN     USD             NaN            NaN         NaN   \n",
       "2           NaN     USD             NaN            NaN         NaN   \n",
       "3           NaN     USD             NaN            NaN         NaN   \n",
       "4           NaN     USD             NaN            NaN         NaN   \n",
       "\n",
       "  Belegstatus Dokumentenname im Archivsystem  \n",
       "0         NaN                            NaN  \n",
       "1         NaN                            NaN  \n",
       "2         NaN                            NaN  \n",
       "3         NaN                            NaN  \n",
       "4         NaN                            NaN  \n",
       "\n",
       "[5 rows x 23 columns]"
      ]
     },
     "execution_count": 3,
     "metadata": {},
     "output_type": "execute_result"
    }
   ],
   "source": [
    "df= pd.read_csv(filename,sep='|',dtype=str,low_memory=False)\n",
    "df_string= pd.read_csv(filename,sep='|',dtype=str,low_memory=False)\n",
    "df.head(5)"
   ]
  },
  {
   "cell_type": "code",
   "execution_count": 4,
   "metadata": {},
   "outputs": [],
   "source": [
    "def convert_int(convert,df):\n",
    "    pbjekts=pd.DataFrame(df.dtypes,columns=['types'])\n",
    "    for x in pbjekts[pbjekts['types']=='object'].index.to_list():\n",
    "        try:\n",
    "            df[x]=df[x].astype(convert)\n",
    "        except:\n",
    "            pass"
   ]
  },
  {
   "cell_type": "code",
   "execution_count": 5,
   "metadata": {},
   "outputs": [],
   "source": [
    "def date_check(df,var):\n",
    "    col=[s for s in df.columns.to_list() if any([x.lower for x in var if x.lower() in s.lower()])]\n",
    "    for x in col:\n",
    "        if df[x].str.len().mean()==4:\n",
    "            #print('ja')\n",
    "            col.remove(x)\n",
    "    return col"
   ]
  },
  {
   "cell_type": "code",
   "execution_count": 6,
   "metadata": {},
   "outputs": [],
   "source": [
    "var=['jahr','datum','Dat']\n",
    "col=date_check(df,var)\n",
    "df[col]=df.loc[:,col].apply(pd.to_datetime)\n",
    "var2=['zeit','uhr']\n",
    "col2=date_check(df,var2)\n",
    "df[col2]=df.loc[:,col2].apply(pd.to_datetime)\n",
    "for x in col2:\n",
    "    df[x]=df[x].dt.time"
   ]
  },
  {
   "cell_type": "code",
   "execution_count": 7,
   "metadata": {},
   "outputs": [
    {
     "data": {
      "text/plain": [
       "['Buchungskreis',\n",
       " 'Belegnummer',\n",
       " 'Geschäftsjahr',\n",
       " 'Belegart',\n",
       " 'Buchungsperiode',\n",
       " 'Erfassungsuhrzeit',\n",
       " 'Geändert am',\n",
       " 'Letzte Fortschreib',\n",
       " 'Transaktionscode',\n",
       " 'Übergreifende Nr',\n",
       " 'Referenz',\n",
       " 'Belegkopftext',\n",
       " 'Währung',\n",
       " 'Umrechnungskurs',\n",
       " 'Konzernwährung',\n",
       " 'Konzernkurs',\n",
       " 'Belegstatus',\n",
       " 'Dokumentenname im Archivsystem']"
      ]
     },
     "execution_count": 7,
     "metadata": {},
     "output_type": "execute_result"
    }
   ],
   "source": [
    "pbjekts=pd.DataFrame(df.dtypes,columns=['types'])\n",
    "list=pbjekts[pbjekts['types']=='object'].index.to_list()\n",
    "zeiten=['jahr','datum','Dat','zeit','uhr']\n",
    "new_list= [s for s in list if not any([x.lower for x in zeiten if x in s.lower()])]\n",
    "new_list = [s for s in list if not df[s].isnull().values.all()]\n",
    "new_list= [s for s in list if not (df[s] == '0.0').all()] \n",
    "new_list= [s for s in list if not (df[s] == 0.0).all()] \n",
    "new_list= [s for s in list if not (df[s] == 0).all()] \n",
    "new_list= [s for s in list if not (df[s] == 'nan').all()] \n",
    "new_list"
   ]
  },
  {
   "cell_type": "code",
   "execution_count": 8,
   "metadata": {},
   "outputs": [
    {
     "name": "stdout",
     "output_type": "stream",
     "text": [
      "int:  Buchungskreis\n",
      "int:  Belegnummer\n",
      "int:  Geschäftsjahr\n",
      "STR:  Belegart\n",
      "int:  Buchungsperiode\n",
      "STR:  Erfassungsuhrzeit\n",
      "float:  Geändert am\n",
      "float:  Letzte Fortschreib\n",
      "STR:  Transaktionscode\n",
      "float:  Übergreifende Nr\n",
      "float:  Referenz\n",
      "float:  Belegkopftext\n",
      "STR:  Währung\n",
      "float:  Umrechnungskurs\n",
      "float:  Konzernwährung\n",
      "float:  Konzernkurs\n",
      "float:  Belegstatus\n",
      "float:  Dokumentenname im Archivsystem\n"
     ]
    }
   ],
   "source": [
    "for column in new_list:\n",
    "    try:\n",
    "        if any(round(df[column].astype(float)) != df[column].astype(float)):\n",
    "            print('float: ',column)\n",
    "            df[column]=df[column].astype(float)\n",
    "        elif all(round(df[column].astype(float)) == df[column].astype(float)):\n",
    "            print('int: ',column)\n",
    "            df[column]=df[column].astype(int).round()\n",
    "    except:\n",
    "        print('STR: ',column)\n",
    "\n",
    "        #pass"
   ]
  },
  {
   "cell_type": "code",
   "execution_count": 81,
   "metadata": {},
   "outputs": [],
   "source": [
    "pbjekts=pd.DataFrame(df.dtypes,columns=['types'])\n",
    "pbjekts['unique']=df.nunique()\n",
    "pbjekts['null']=df.isna().sum()\n",
    "pbjekts['not_null']=df.count()\n",
    "pbjekts\n",
    "pr=pbjekts[pbjekts['unique']<200]\n",
    "pg=pbjekts[pbjekts['unique']>=200]"
   ]
  },
  {
   "cell_type": "code",
   "execution_count": 87,
   "metadata": {},
   "outputs": [
    {
     "data": {
      "text/html": [
       "<div class=\"bk-root\">\n",
       "        <a href=\"https://bokeh.org\" target=\"_blank\" class=\"bk-logo bk-logo-small bk-logo-notebook\"></a>\n",
       "        <span id=\"12129\">Loading BokehJS ...</span>\n",
       "    </div>\n"
      ]
     },
     "metadata": {},
     "output_type": "display_data"
    },
    {
     "data": {
      "application/javascript": "(function(root) {\n  function now() {\n    return new Date();\n  }\n\n  const force = true;\n\n  if (typeof root._bokeh_onload_callbacks === \"undefined\" || force === true) {\n    root._bokeh_onload_callbacks = [];\n    root._bokeh_is_loading = undefined;\n  }\n\nconst JS_MIME_TYPE = 'application/javascript';\n  const HTML_MIME_TYPE = 'text/html';\n  const EXEC_MIME_TYPE = 'application/vnd.bokehjs_exec.v0+json';\n  const CLASS_NAME = 'output_bokeh rendered_html';\n\n  /**\n   * Render data to the DOM node\n   */\n  function render(props, node) {\n    const script = document.createElement(\"script\");\n    node.appendChild(script);\n  }\n\n  /**\n   * Handle when an output is cleared or removed\n   */\n  function handleClearOutput(event, handle) {\n    const cell = handle.cell;\n\n    const id = cell.output_area._bokeh_element_id;\n    const server_id = cell.output_area._bokeh_server_id;\n    // Clean up Bokeh references\n    if (id != null && id in Bokeh.index) {\n      Bokeh.index[id].model.document.clear();\n      delete Bokeh.index[id];\n    }\n\n    if (server_id !== undefined) {\n      // Clean up Bokeh references\n      const cmd_clean = \"from bokeh.io.state import curstate; print(curstate().uuid_to_server['\" + server_id + \"'].get_sessions()[0].document.roots[0]._id)\";\n      cell.notebook.kernel.execute(cmd_clean, {\n        iopub: {\n          output: function(msg) {\n            const id = msg.content.text.trim();\n            if (id in Bokeh.index) {\n              Bokeh.index[id].model.document.clear();\n              delete Bokeh.index[id];\n            }\n          }\n        }\n      });\n      // Destroy server and session\n      const cmd_destroy = \"import bokeh.io.notebook as ion; ion.destroy_server('\" + server_id + \"')\";\n      cell.notebook.kernel.execute(cmd_destroy);\n    }\n  }\n\n  /**\n   * Handle when a new output is added\n   */\n  function handleAddOutput(event, handle) {\n    const output_area = handle.output_area;\n    const output = handle.output;\n\n    // limit handleAddOutput to display_data with EXEC_MIME_TYPE content only\n    if ((output.output_type != \"display_data\") || (!Object.prototype.hasOwnProperty.call(output.data, EXEC_MIME_TYPE))) {\n      return\n    }\n\n    const toinsert = output_area.element.find(\".\" + CLASS_NAME.split(' ')[0]);\n\n    if (output.metadata[EXEC_MIME_TYPE][\"id\"] !== undefined) {\n      toinsert[toinsert.length - 1].firstChild.textContent = output.data[JS_MIME_TYPE];\n      // store reference to embed id on output_area\n      output_area._bokeh_element_id = output.metadata[EXEC_MIME_TYPE][\"id\"];\n    }\n    if (output.metadata[EXEC_MIME_TYPE][\"server_id\"] !== undefined) {\n      const bk_div = document.createElement(\"div\");\n      bk_div.innerHTML = output.data[HTML_MIME_TYPE];\n      const script_attrs = bk_div.children[0].attributes;\n      for (let i = 0; i < script_attrs.length; i++) {\n        toinsert[toinsert.length - 1].firstChild.setAttribute(script_attrs[i].name, script_attrs[i].value);\n        toinsert[toinsert.length - 1].firstChild.textContent = bk_div.children[0].textContent\n      }\n      // store reference to server id on output_area\n      output_area._bokeh_server_id = output.metadata[EXEC_MIME_TYPE][\"server_id\"];\n    }\n  }\n\n  function register_renderer(events, OutputArea) {\n\n    function append_mime(data, metadata, element) {\n      // create a DOM node to render to\n      const toinsert = this.create_output_subarea(\n        metadata,\n        CLASS_NAME,\n        EXEC_MIME_TYPE\n      );\n      this.keyboard_manager.register_events(toinsert);\n      // Render to node\n      const props = {data: data, metadata: metadata[EXEC_MIME_TYPE]};\n      render(props, toinsert[toinsert.length - 1]);\n      element.append(toinsert);\n      return toinsert\n    }\n\n    /* Handle when an output is cleared or removed */\n    events.on('clear_output.CodeCell', handleClearOutput);\n    events.on('delete.Cell', handleClearOutput);\n\n    /* Handle when a new output is added */\n    events.on('output_added.OutputArea', handleAddOutput);\n\n    /**\n     * Register the mime type and append_mime function with output_area\n     */\n    OutputArea.prototype.register_mime_type(EXEC_MIME_TYPE, append_mime, {\n      /* Is output safe? */\n      safe: true,\n      /* Index of renderer in `output_area.display_order` */\n      index: 0\n    });\n  }\n\n  // register the mime type if in Jupyter Notebook environment and previously unregistered\n  if (root.Jupyter !== undefined) {\n    const events = require('base/js/events');\n    const OutputArea = require('notebook/js/outputarea').OutputArea;\n\n    if (OutputArea.prototype.mime_types().indexOf(EXEC_MIME_TYPE) == -1) {\n      register_renderer(events, OutputArea);\n    }\n  }\n  if (typeof (root._bokeh_timeout) === \"undefined\" || force === true) {\n    root._bokeh_timeout = Date.now() + 5000;\n    root._bokeh_failed_load = false;\n  }\n\n  const NB_LOAD_WARNING = {'data': {'text/html':\n     \"<div style='background-color: #fdd'>\\n\"+\n     \"<p>\\n\"+\n     \"BokehJS does not appear to have successfully loaded. If loading BokehJS from CDN, this \\n\"+\n     \"may be due to a slow or bad network connection. Possible fixes:\\n\"+\n     \"</p>\\n\"+\n     \"<ul>\\n\"+\n     \"<li>re-rerun `output_notebook()` to attempt to load from CDN again, or</li>\\n\"+\n     \"<li>use INLINE resources instead, as so:</li>\\n\"+\n     \"</ul>\\n\"+\n     \"<code>\\n\"+\n     \"from bokeh.resources import INLINE\\n\"+\n     \"output_notebook(resources=INLINE)\\n\"+\n     \"</code>\\n\"+\n     \"</div>\"}};\n\n  function display_loaded() {\n    const el = document.getElementById(\"12129\");\n    if (el != null) {\n      el.textContent = \"BokehJS is loading...\";\n    }\n    if (root.Bokeh !== undefined) {\n      if (el != null) {\n        el.textContent = \"BokehJS \" + root.Bokeh.version + \" successfully loaded.\";\n      }\n    } else if (Date.now() < root._bokeh_timeout) {\n      setTimeout(display_loaded, 100)\n    }\n  }\n\n  function run_callbacks() {\n    try {\n      root._bokeh_onload_callbacks.forEach(function(callback) {\n        if (callback != null)\n          callback();\n      });\n    } finally {\n      delete root._bokeh_onload_callbacks\n    }\n    console.debug(\"Bokeh: all callbacks have finished\");\n  }\n\n  function load_libs(css_urls, js_urls, callback) {\n    if (css_urls == null) css_urls = [];\n    if (js_urls == null) js_urls = [];\n\n    root._bokeh_onload_callbacks.push(callback);\n    if (root._bokeh_is_loading > 0) {\n      console.debug(\"Bokeh: BokehJS is being loaded, scheduling callback at\", now());\n      return null;\n    }\n    if (js_urls == null || js_urls.length === 0) {\n      run_callbacks();\n      return null;\n    }\n    console.debug(\"Bokeh: BokehJS not loaded, scheduling load and callback at\", now());\n    root._bokeh_is_loading = css_urls.length + js_urls.length;\n\n    function on_load() {\n      root._bokeh_is_loading--;\n      if (root._bokeh_is_loading === 0) {\n        console.debug(\"Bokeh: all BokehJS libraries/stylesheets loaded\");\n        run_callbacks()\n      }\n    }\n\n    function on_error(url) {\n      console.error(\"failed to load \" + url);\n    }\n\n    for (let i = 0; i < css_urls.length; i++) {\n      const url = css_urls[i];\n      const element = document.createElement(\"link\");\n      element.onload = on_load;\n      element.onerror = on_error.bind(null, url);\n      element.rel = \"stylesheet\";\n      element.type = \"text/css\";\n      element.href = url;\n      console.debug(\"Bokeh: injecting link tag for BokehJS stylesheet: \", url);\n      document.body.appendChild(element);\n    }\n\n    for (let i = 0; i < js_urls.length; i++) {\n      const url = js_urls[i];\n      const element = document.createElement('script');\n      element.onload = on_load;\n      element.onerror = on_error.bind(null, url);\n      element.async = false;\n      element.src = url;\n      console.debug(\"Bokeh: injecting script tag for BokehJS library: \", url);\n      document.head.appendChild(element);\n    }\n  };\n\n  function inject_raw_css(css) {\n    const element = document.createElement(\"style\");\n    element.appendChild(document.createTextNode(css));\n    document.body.appendChild(element);\n  }\n\n  const js_urls = [\"https://cdn.bokeh.org/bokeh/release/bokeh-2.4.3.min.js\", \"https://cdn.bokeh.org/bokeh/release/bokeh-gl-2.4.3.min.js\", \"https://cdn.bokeh.org/bokeh/release/bokeh-widgets-2.4.3.min.js\", \"https://cdn.bokeh.org/bokeh/release/bokeh-tables-2.4.3.min.js\", \"https://cdn.bokeh.org/bokeh/release/bokeh-mathjax-2.4.3.min.js\"];\n  const css_urls = [];\n\n  const inline_js = [    function(Bokeh) {\n      Bokeh.set_log_level(\"info\");\n    },\nfunction(Bokeh) {\n    }\n  ];\n\n  function run_inline_js() {\n    if (root.Bokeh !== undefined || force === true) {\n          for (let i = 0; i < inline_js.length; i++) {\n      inline_js[i].call(root, root.Bokeh);\n    }\nif (force === true) {\n        display_loaded();\n      }} else if (Date.now() < root._bokeh_timeout) {\n      setTimeout(run_inline_js, 100);\n    } else if (!root._bokeh_failed_load) {\n      console.log(\"Bokeh: BokehJS failed to load within specified timeout.\");\n      root._bokeh_failed_load = true;\n    } else if (force !== true) {\n      const cell = $(document.getElementById(\"12129\")).parents('.cell').data().cell;\n      cell.output_area.append_execute_result(NB_LOAD_WARNING)\n    }\n  }\n\n  if (root._bokeh_is_loading === 0) {\n    console.debug(\"Bokeh: BokehJS loaded, going straight to plotting\");\n    run_inline_js();\n  } else {\n    load_libs(css_urls, js_urls, function() {\n      console.debug(\"Bokeh: BokehJS plotting callback run at\", now());\n      run_inline_js();\n    });\n  }\n}(window));",
      "application/vnd.bokehjs_load.v0+json": ""
     },
     "metadata": {},
     "output_type": "display_data"
    },
    {
     "data": {
      "text/html": [
       "\n",
       "  <div class=\"bk-root\" id=\"a6ebe279-d516-4207-9e34-f737a168da86\" data-root-id=\"12101\"></div>\n"
      ]
     },
     "metadata": {},
     "output_type": "display_data"
    },
    {
     "data": {
      "application/javascript": "(function(root) {\n  function embed_document(root) {\n  const docs_json = {\"3ef02b98-276b-4337-9818-bf1713456b27\":{\"defs\":[],\"roots\":{\"references\":[{\"attributes\":{\"below\":[{\"id\":\"12112\"}],\"center\":[{\"id\":\"12114\"},{\"id\":\"12118\"}],\"height\":400,\"left\":[{\"id\":\"12115\"}],\"renderers\":[{\"id\":\"12125\"}],\"title\":{\"id\":\"12102\"},\"toolbar\":{\"id\":\"12119\"},\"toolbar_location\":null,\"width\":500,\"x_range\":{\"id\":\"12104\"},\"x_scale\":{\"id\":\"12108\"},\"y_range\":{\"id\":\"12106\"},\"y_scale\":{\"id\":\"12110\"}},\"id\":\"12101\",\"subtype\":\"Figure\",\"type\":\"Plot\"},{\"attributes\":{\"data\":{\"langs\":[\"Belegnummer\",\"Erfassungsuhrzeit\"],\"unique\":[2500,596]},\"selected\":{\"id\":\"12419\"},\"selection_policy\":{\"id\":\"12418\"}},\"id\":\"12100\",\"type\":\"ColumnDataSource\"},{\"attributes\":{\"axis\":{\"id\":\"12112\"},\"coordinates\":null,\"group\":null,\"ticker\":null},\"id\":\"12114\",\"type\":\"Grid\"},{\"attributes\":{\"factors\":[\"Belegnummer\",\"Erfassungsuhrzeit\"]},\"id\":\"12104\",\"type\":\"FactorRange\"},{\"attributes\":{},\"id\":\"12108\",\"type\":\"CategoricalScale\"},{\"attributes\":{},\"id\":\"12106\",\"type\":\"DataRange1d\"},{\"attributes\":{\"coordinates\":null,\"group\":null,\"text\":\"Unique values with qual or more than 200  unique values\"},\"id\":\"12102\",\"type\":\"Title\"},{\"attributes\":{\"range\":{\"id\":\"12104\"}},\"id\":\"12120\",\"type\":\"Dodge\"},{\"attributes\":{},\"id\":\"12113\",\"type\":\"CategoricalTicker\"},{\"attributes\":{\"fill_color\":{\"value\":\"#1f77b4\"},\"line_color\":{\"value\":\"#1f77b4\"},\"top\":{\"field\":\"unique\"},\"width\":{\"value\":0.5},\"x\":{\"field\":\"langs\",\"transform\":{\"id\":\"12120\"}}},\"id\":\"12122\",\"type\":\"VBar\"},{\"attributes\":{},\"id\":\"12418\",\"type\":\"UnionRenderers\"},{\"attributes\":{},\"id\":\"12110\",\"type\":\"LinearScale\"},{\"attributes\":{\"coordinates\":null,\"formatter\":{\"id\":\"12413\"},\"group\":null,\"major_label_policy\":{\"id\":\"12414\"},\"ticker\":{\"id\":\"12116\"}},\"id\":\"12115\",\"type\":\"LinearAxis\"},{\"attributes\":{\"callback\":null,\"tooltips\":\"\\n<div>\\n    <div><strong>Column:  </strong>@langs</div>\\n    <div><strong>Count: </strong>@$name</div>\\n</div>\"},\"id\":\"12127\",\"type\":\"HoverTool\"},{\"attributes\":{\"coordinates\":null,\"formatter\":{\"id\":\"12416\"},\"group\":null,\"major_label_orientation\":\"vertical\",\"major_label_policy\":{\"id\":\"12417\"},\"ticker\":{\"id\":\"12113\"}},\"id\":\"12112\",\"type\":\"CategoricalAxis\"},{\"attributes\":{\"axis\":{\"id\":\"12115\"},\"coordinates\":null,\"dimension\":1,\"group\":null,\"ticker\":null},\"id\":\"12118\",\"type\":\"Grid\"},{\"attributes\":{},\"id\":\"12116\",\"type\":\"BasicTicker\"},{\"attributes\":{},\"id\":\"12414\",\"type\":\"AllLabels\"},{\"attributes\":{\"fill_alpha\":{\"value\":0.2},\"fill_color\":{\"value\":\"#1f77b4\"},\"hatch_alpha\":{\"value\":0.2},\"line_alpha\":{\"value\":0.2},\"line_color\":{\"value\":\"#1f77b4\"},\"top\":{\"field\":\"unique\"},\"width\":{\"value\":0.5},\"x\":{\"field\":\"langs\",\"transform\":{\"id\":\"12120\"}}},\"id\":\"12124\",\"type\":\"VBar\"},{\"attributes\":{},\"id\":\"12419\",\"type\":\"Selection\"},{\"attributes\":{\"tools\":[{\"id\":\"12127\"}]},\"id\":\"12119\",\"type\":\"Toolbar\"},{\"attributes\":{\"fill_alpha\":{\"value\":0.1},\"fill_color\":{\"value\":\"#1f77b4\"},\"hatch_alpha\":{\"value\":0.1},\"line_alpha\":{\"value\":0.1},\"line_color\":{\"value\":\"#1f77b4\"},\"top\":{\"field\":\"unique\"},\"width\":{\"value\":0.5},\"x\":{\"field\":\"langs\",\"transform\":{\"id\":\"12120\"}}},\"id\":\"12123\",\"type\":\"VBar\"},{\"attributes\":{},\"id\":\"12417\",\"type\":\"AllLabels\"},{\"attributes\":{},\"id\":\"12416\",\"type\":\"CategoricalTickFormatter\"},{\"attributes\":{\"coordinates\":null,\"data_source\":{\"id\":\"12100\"},\"glyph\":{\"id\":\"12122\"},\"group\":null,\"hover_glyph\":null,\"muted_glyph\":{\"id\":\"12124\"},\"name\":\"unique\",\"nonselection_glyph\":{\"id\":\"12123\"},\"view\":{\"id\":\"12126\"}},\"id\":\"12125\",\"type\":\"GlyphRenderer\"},{\"attributes\":{},\"id\":\"12413\",\"type\":\"BasicTickFormatter\"},{\"attributes\":{\"source\":{\"id\":\"12100\"}},\"id\":\"12126\",\"type\":\"CDSView\"}],\"root_ids\":[\"12101\"]},\"title\":\"Bokeh Application\",\"version\":\"2.4.3\"}};\n  const render_items = [{\"docid\":\"3ef02b98-276b-4337-9818-bf1713456b27\",\"root_ids\":[\"12101\"],\"roots\":{\"12101\":\"a6ebe279-d516-4207-9e34-f737a168da86\"}}];\n  root.Bokeh.embed.embed_items_notebook(docs_json, render_items);\n  }\n  if (root.Bokeh !== undefined) {\n    embed_document(root);\n  } else {\n    let attempts = 0;\n    const timer = setInterval(function(root) {\n      if (root.Bokeh !== undefined) {\n        clearInterval(timer);\n        embed_document(root);\n      } else {\n        attempts++;\n        if (attempts > 100) {\n          clearInterval(timer);\n          console.log(\"Bokeh: ERROR: Unable to run BokehJS code because BokehJS library is missing\");\n        }\n      }\n    }, 10, root)\n  }\n})(window);",
      "application/vnd.bokehjs_exec.v0+json": ""
     },
     "metadata": {
      "application/vnd.bokehjs_exec.v0+json": {
       "id": "12101"
      }
     },
     "output_type": "display_data"
    }
   ],
   "source": [
    "from bokeh.plotting import figure, output_notebook, show,output_notebook\n",
    "from bokeh.models import ColumnDataSource,HoverTool\n",
    "from bokeh.transform import dodge\n",
    "\n",
    "langs = pg.index.to_list()\n",
    "data = {'langs' : langs,\n",
    "        'unique'   : [ int(x) for x in pg['unique'].to_list() ]\n",
    "        }\n",
    "source = ColumnDataSource(data=data)\n",
    "\n",
    "    \n",
    "students = [ int(x) for x in pg['unique'].to_list() ]\n",
    "fig = figure(x_range = langs, plot_width = 500, plot_height =400,toolbar_location=None, tools=\"\", title=\"Unique values with qual or more than 200  unique values\")\n",
    "fig.xaxis.major_label_orientation = \"vertical\"\n",
    "fig.vbar(x = dodge('langs',  0, range=fig.x_range), top='unique', width = 0.5,name='unique',source=source)\n",
    "\n",
    "# fig.vbar(x=dodge('NullNotNull',  0.15, range=fig.x_range), top='notnull', width=0.2, source=source,\n",
    "#        color=\"#e84d60\", legend_label=\"notnull\",name='notnull')\n",
    "hover = HoverTool()\n",
    "hover.tooltips = \"\"\"\n",
    "<div>\n",
    "    <div><strong>Column:  </strong>@langs</div>\n",
    "    <div><strong>Count: </strong>@$name</div>\n",
    "</div>\"\"\"\n",
    "fig.add_tools(hover)\n",
    "output_notebook()\n",
    "show(fig)"
   ]
  },
  {
   "cell_type": "code",
   "execution_count": 86,
   "metadata": {},
   "outputs": [
    {
     "data": {
      "text/html": [
       "<div class=\"bk-root\">\n",
       "        <a href=\"https://bokeh.org\" target=\"_blank\" class=\"bk-logo bk-logo-small bk-logo-notebook\"></a>\n",
       "        <span id=\"11646\">Loading BokehJS ...</span>\n",
       "    </div>\n"
      ]
     },
     "metadata": {},
     "output_type": "display_data"
    },
    {
     "data": {
      "application/javascript": "(function(root) {\n  function now() {\n    return new Date();\n  }\n\n  const force = true;\n\n  if (typeof root._bokeh_onload_callbacks === \"undefined\" || force === true) {\n    root._bokeh_onload_callbacks = [];\n    root._bokeh_is_loading = undefined;\n  }\n\nconst JS_MIME_TYPE = 'application/javascript';\n  const HTML_MIME_TYPE = 'text/html';\n  const EXEC_MIME_TYPE = 'application/vnd.bokehjs_exec.v0+json';\n  const CLASS_NAME = 'output_bokeh rendered_html';\n\n  /**\n   * Render data to the DOM node\n   */\n  function render(props, node) {\n    const script = document.createElement(\"script\");\n    node.appendChild(script);\n  }\n\n  /**\n   * Handle when an output is cleared or removed\n   */\n  function handleClearOutput(event, handle) {\n    const cell = handle.cell;\n\n    const id = cell.output_area._bokeh_element_id;\n    const server_id = cell.output_area._bokeh_server_id;\n    // Clean up Bokeh references\n    if (id != null && id in Bokeh.index) {\n      Bokeh.index[id].model.document.clear();\n      delete Bokeh.index[id];\n    }\n\n    if (server_id !== undefined) {\n      // Clean up Bokeh references\n      const cmd_clean = \"from bokeh.io.state import curstate; print(curstate().uuid_to_server['\" + server_id + \"'].get_sessions()[0].document.roots[0]._id)\";\n      cell.notebook.kernel.execute(cmd_clean, {\n        iopub: {\n          output: function(msg) {\n            const id = msg.content.text.trim();\n            if (id in Bokeh.index) {\n              Bokeh.index[id].model.document.clear();\n              delete Bokeh.index[id];\n            }\n          }\n        }\n      });\n      // Destroy server and session\n      const cmd_destroy = \"import bokeh.io.notebook as ion; ion.destroy_server('\" + server_id + \"')\";\n      cell.notebook.kernel.execute(cmd_destroy);\n    }\n  }\n\n  /**\n   * Handle when a new output is added\n   */\n  function handleAddOutput(event, handle) {\n    const output_area = handle.output_area;\n    const output = handle.output;\n\n    // limit handleAddOutput to display_data with EXEC_MIME_TYPE content only\n    if ((output.output_type != \"display_data\") || (!Object.prototype.hasOwnProperty.call(output.data, EXEC_MIME_TYPE))) {\n      return\n    }\n\n    const toinsert = output_area.element.find(\".\" + CLASS_NAME.split(' ')[0]);\n\n    if (output.metadata[EXEC_MIME_TYPE][\"id\"] !== undefined) {\n      toinsert[toinsert.length - 1].firstChild.textContent = output.data[JS_MIME_TYPE];\n      // store reference to embed id on output_area\n      output_area._bokeh_element_id = output.metadata[EXEC_MIME_TYPE][\"id\"];\n    }\n    if (output.metadata[EXEC_MIME_TYPE][\"server_id\"] !== undefined) {\n      const bk_div = document.createElement(\"div\");\n      bk_div.innerHTML = output.data[HTML_MIME_TYPE];\n      const script_attrs = bk_div.children[0].attributes;\n      for (let i = 0; i < script_attrs.length; i++) {\n        toinsert[toinsert.length - 1].firstChild.setAttribute(script_attrs[i].name, script_attrs[i].value);\n        toinsert[toinsert.length - 1].firstChild.textContent = bk_div.children[0].textContent\n      }\n      // store reference to server id on output_area\n      output_area._bokeh_server_id = output.metadata[EXEC_MIME_TYPE][\"server_id\"];\n    }\n  }\n\n  function register_renderer(events, OutputArea) {\n\n    function append_mime(data, metadata, element) {\n      // create a DOM node to render to\n      const toinsert = this.create_output_subarea(\n        metadata,\n        CLASS_NAME,\n        EXEC_MIME_TYPE\n      );\n      this.keyboard_manager.register_events(toinsert);\n      // Render to node\n      const props = {data: data, metadata: metadata[EXEC_MIME_TYPE]};\n      render(props, toinsert[toinsert.length - 1]);\n      element.append(toinsert);\n      return toinsert\n    }\n\n    /* Handle when an output is cleared or removed */\n    events.on('clear_output.CodeCell', handleClearOutput);\n    events.on('delete.Cell', handleClearOutput);\n\n    /* Handle when a new output is added */\n    events.on('output_added.OutputArea', handleAddOutput);\n\n    /**\n     * Register the mime type and append_mime function with output_area\n     */\n    OutputArea.prototype.register_mime_type(EXEC_MIME_TYPE, append_mime, {\n      /* Is output safe? */\n      safe: true,\n      /* Index of renderer in `output_area.display_order` */\n      index: 0\n    });\n  }\n\n  // register the mime type if in Jupyter Notebook environment and previously unregistered\n  if (root.Jupyter !== undefined) {\n    const events = require('base/js/events');\n    const OutputArea = require('notebook/js/outputarea').OutputArea;\n\n    if (OutputArea.prototype.mime_types().indexOf(EXEC_MIME_TYPE) == -1) {\n      register_renderer(events, OutputArea);\n    }\n  }\n  if (typeof (root._bokeh_timeout) === \"undefined\" || force === true) {\n    root._bokeh_timeout = Date.now() + 5000;\n    root._bokeh_failed_load = false;\n  }\n\n  const NB_LOAD_WARNING = {'data': {'text/html':\n     \"<div style='background-color: #fdd'>\\n\"+\n     \"<p>\\n\"+\n     \"BokehJS does not appear to have successfully loaded. If loading BokehJS from CDN, this \\n\"+\n     \"may be due to a slow or bad network connection. Possible fixes:\\n\"+\n     \"</p>\\n\"+\n     \"<ul>\\n\"+\n     \"<li>re-rerun `output_notebook()` to attempt to load from CDN again, or</li>\\n\"+\n     \"<li>use INLINE resources instead, as so:</li>\\n\"+\n     \"</ul>\\n\"+\n     \"<code>\\n\"+\n     \"from bokeh.resources import INLINE\\n\"+\n     \"output_notebook(resources=INLINE)\\n\"+\n     \"</code>\\n\"+\n     \"</div>\"}};\n\n  function display_loaded() {\n    const el = document.getElementById(\"11646\");\n    if (el != null) {\n      el.textContent = \"BokehJS is loading...\";\n    }\n    if (root.Bokeh !== undefined) {\n      if (el != null) {\n        el.textContent = \"BokehJS \" + root.Bokeh.version + \" successfully loaded.\";\n      }\n    } else if (Date.now() < root._bokeh_timeout) {\n      setTimeout(display_loaded, 100)\n    }\n  }\n\n  function run_callbacks() {\n    try {\n      root._bokeh_onload_callbacks.forEach(function(callback) {\n        if (callback != null)\n          callback();\n      });\n    } finally {\n      delete root._bokeh_onload_callbacks\n    }\n    console.debug(\"Bokeh: all callbacks have finished\");\n  }\n\n  function load_libs(css_urls, js_urls, callback) {\n    if (css_urls == null) css_urls = [];\n    if (js_urls == null) js_urls = [];\n\n    root._bokeh_onload_callbacks.push(callback);\n    if (root._bokeh_is_loading > 0) {\n      console.debug(\"Bokeh: BokehJS is being loaded, scheduling callback at\", now());\n      return null;\n    }\n    if (js_urls == null || js_urls.length === 0) {\n      run_callbacks();\n      return null;\n    }\n    console.debug(\"Bokeh: BokehJS not loaded, scheduling load and callback at\", now());\n    root._bokeh_is_loading = css_urls.length + js_urls.length;\n\n    function on_load() {\n      root._bokeh_is_loading--;\n      if (root._bokeh_is_loading === 0) {\n        console.debug(\"Bokeh: all BokehJS libraries/stylesheets loaded\");\n        run_callbacks()\n      }\n    }\n\n    function on_error(url) {\n      console.error(\"failed to load \" + url);\n    }\n\n    for (let i = 0; i < css_urls.length; i++) {\n      const url = css_urls[i];\n      const element = document.createElement(\"link\");\n      element.onload = on_load;\n      element.onerror = on_error.bind(null, url);\n      element.rel = \"stylesheet\";\n      element.type = \"text/css\";\n      element.href = url;\n      console.debug(\"Bokeh: injecting link tag for BokehJS stylesheet: \", url);\n      document.body.appendChild(element);\n    }\n\n    for (let i = 0; i < js_urls.length; i++) {\n      const url = js_urls[i];\n      const element = document.createElement('script');\n      element.onload = on_load;\n      element.onerror = on_error.bind(null, url);\n      element.async = false;\n      element.src = url;\n      console.debug(\"Bokeh: injecting script tag for BokehJS library: \", url);\n      document.head.appendChild(element);\n    }\n  };\n\n  function inject_raw_css(css) {\n    const element = document.createElement(\"style\");\n    element.appendChild(document.createTextNode(css));\n    document.body.appendChild(element);\n  }\n\n  const js_urls = [\"https://cdn.bokeh.org/bokeh/release/bokeh-2.4.3.min.js\", \"https://cdn.bokeh.org/bokeh/release/bokeh-gl-2.4.3.min.js\", \"https://cdn.bokeh.org/bokeh/release/bokeh-widgets-2.4.3.min.js\", \"https://cdn.bokeh.org/bokeh/release/bokeh-tables-2.4.3.min.js\", \"https://cdn.bokeh.org/bokeh/release/bokeh-mathjax-2.4.3.min.js\"];\n  const css_urls = [];\n\n  const inline_js = [    function(Bokeh) {\n      Bokeh.set_log_level(\"info\");\n    },\nfunction(Bokeh) {\n    }\n  ];\n\n  function run_inline_js() {\n    if (root.Bokeh !== undefined || force === true) {\n          for (let i = 0; i < inline_js.length; i++) {\n      inline_js[i].call(root, root.Bokeh);\n    }\nif (force === true) {\n        display_loaded();\n      }} else if (Date.now() < root._bokeh_timeout) {\n      setTimeout(run_inline_js, 100);\n    } else if (!root._bokeh_failed_load) {\n      console.log(\"Bokeh: BokehJS failed to load within specified timeout.\");\n      root._bokeh_failed_load = true;\n    } else if (force !== true) {\n      const cell = $(document.getElementById(\"11646\")).parents('.cell').data().cell;\n      cell.output_area.append_execute_result(NB_LOAD_WARNING)\n    }\n  }\n\n  if (root._bokeh_is_loading === 0) {\n    console.debug(\"Bokeh: BokehJS loaded, going straight to plotting\");\n    run_inline_js();\n  } else {\n    load_libs(css_urls, js_urls, function() {\n      console.debug(\"Bokeh: BokehJS plotting callback run at\", now());\n      run_inline_js();\n    });\n  }\n}(window));",
      "application/vnd.bokehjs_load.v0+json": ""
     },
     "metadata": {},
     "output_type": "display_data"
    },
    {
     "data": {
      "text/html": [
       "\n",
       "  <div class=\"bk-root\" id=\"958051a0-3d4a-430f-a3ab-7ed3510d0a0b\" data-root-id=\"11618\"></div>\n"
      ]
     },
     "metadata": {},
     "output_type": "display_data"
    },
    {
     "data": {
      "application/javascript": "(function(root) {\n  function embed_document(root) {\n  const docs_json = {\"27a50fc8-4a7a-494a-8e58-24f254ca80c4\":{\"defs\":[],\"roots\":{\"references\":[{\"attributes\":{\"below\":[{\"id\":\"11629\"}],\"center\":[{\"id\":\"11631\"},{\"id\":\"11635\"}],\"height\":400,\"left\":[{\"id\":\"11632\"}],\"renderers\":[{\"id\":\"11642\"}],\"title\":{\"id\":\"11619\"},\"toolbar\":{\"id\":\"11636\"},\"toolbar_location\":null,\"width\":500,\"x_range\":{\"id\":\"11621\"},\"x_scale\":{\"id\":\"11625\"},\"y_range\":{\"id\":\"11623\"},\"y_scale\":{\"id\":\"11627\"}},\"id\":\"11618\",\"subtype\":\"Figure\",\"type\":\"Plot\"},{\"attributes\":{\"coordinates\":null,\"group\":null,\"text\":\"Unique values with under 200 unique values\"},\"id\":\"11619\",\"type\":\"Title\"},{\"attributes\":{\"coordinates\":null,\"data_source\":{\"id\":\"11617\"},\"glyph\":{\"id\":\"11639\"},\"group\":null,\"hover_glyph\":null,\"muted_glyph\":{\"id\":\"11641\"},\"name\":\"unique\",\"nonselection_glyph\":{\"id\":\"11640\"},\"view\":{\"id\":\"11643\"}},\"id\":\"11642\",\"type\":\"GlyphRenderer\"},{\"attributes\":{},\"id\":\"11921\",\"type\":\"BasicTickFormatter\"},{\"attributes\":{},\"id\":\"11922\",\"type\":\"AllLabels\"},{\"attributes\":{\"factors\":[\"Buchungskreis\",\"Gesch\\u00e4ftsjahr\",\"Belegart\",\"Belegdatum\",\"Buchungsdatum\",\"Buchungsperiode\",\"Erfassungsdatum\",\"Ge\\u00e4ndert am\",\"Letzte Fortschreib\",\"Umrechnungsdatum\",\"Transaktionscode\",\"\\u00dcbergreifende Nr\",\"Referenz\",\"Jahr\",\"Belegkopftext\",\"W\\u00e4hrung\",\"Umrechnungskurs\",\"Konzernw\\u00e4hrung\",\"Konzernkurs\",\"Belegstatus\",\"Dokumentenname im Archivsystem\"]},\"id\":\"11621\",\"type\":\"FactorRange\"},{\"attributes\":{},\"id\":\"11924\",\"type\":\"CategoricalTickFormatter\"},{\"attributes\":{\"range\":{\"id\":\"11621\"}},\"id\":\"11637\",\"type\":\"Dodge\"},{\"attributes\":{},\"id\":\"11623\",\"type\":\"DataRange1d\"},{\"attributes\":{\"fill_color\":{\"value\":\"#1f77b4\"},\"line_color\":{\"value\":\"#1f77b4\"},\"top\":{\"field\":\"unique\"},\"width\":{\"value\":0.5},\"x\":{\"field\":\"langs\",\"transform\":{\"id\":\"11637\"}}},\"id\":\"11639\",\"type\":\"VBar\"},{\"attributes\":{},\"id\":\"11627\",\"type\":\"LinearScale\"},{\"attributes\":{},\"id\":\"11625\",\"type\":\"CategoricalScale\"},{\"attributes\":{},\"id\":\"11926\",\"type\":\"UnionRenderers\"},{\"attributes\":{\"callback\":null,\"tooltips\":\"\\n<div>\\n    <div><strong>Column:  </strong>@langs</div>\\n    <div><strong>Count: </strong>@$name</div>\\n</div>\"},\"id\":\"11644\",\"type\":\"HoverTool\"},{\"attributes\":{\"data\":{\"langs\":[\"Buchungskreis\",\"Gesch\\u00e4ftsjahr\",\"Belegart\",\"Belegdatum\",\"Buchungsdatum\",\"Buchungsperiode\",\"Erfassungsdatum\",\"Ge\\u00e4ndert am\",\"Letzte Fortschreib\",\"Umrechnungsdatum\",\"Transaktionscode\",\"\\u00dcbergreifende Nr\",\"Referenz\",\"Jahr\",\"Belegkopftext\",\"W\\u00e4hrung\",\"Umrechnungskurs\",\"Konzernw\\u00e4hrung\",\"Konzernkurs\",\"Belegstatus\",\"Dokumentenname im Archivsystem\"],\"unique\":[1,1,2,20,20,1,1,0,0,20,2,0,0,0,0,1,0,0,0,0,0]},\"selected\":{\"id\":\"11927\"},\"selection_policy\":{\"id\":\"11926\"}},\"id\":\"11617\",\"type\":\"ColumnDataSource\"},{\"attributes\":{\"coordinates\":null,\"formatter\":{\"id\":\"11921\"},\"group\":null,\"major_label_policy\":{\"id\":\"11922\"},\"ticker\":{\"id\":\"11633\"}},\"id\":\"11632\",\"type\":\"LinearAxis\"},{\"attributes\":{},\"id\":\"11927\",\"type\":\"Selection\"},{\"attributes\":{\"fill_alpha\":{\"value\":0.1},\"fill_color\":{\"value\":\"#1f77b4\"},\"hatch_alpha\":{\"value\":0.1},\"line_alpha\":{\"value\":0.1},\"line_color\":{\"value\":\"#1f77b4\"},\"top\":{\"field\":\"unique\"},\"width\":{\"value\":0.5},\"x\":{\"field\":\"langs\",\"transform\":{\"id\":\"11637\"}}},\"id\":\"11640\",\"type\":\"VBar\"},{\"attributes\":{},\"id\":\"11633\",\"type\":\"BasicTicker\"},{\"attributes\":{},\"id\":\"11630\",\"type\":\"CategoricalTicker\"},{\"attributes\":{\"source\":{\"id\":\"11617\"}},\"id\":\"11643\",\"type\":\"CDSView\"},{\"attributes\":{\"axis\":{\"id\":\"11629\"},\"coordinates\":null,\"group\":null,\"ticker\":null},\"id\":\"11631\",\"type\":\"Grid\"},{\"attributes\":{},\"id\":\"11925\",\"type\":\"AllLabels\"},{\"attributes\":{\"fill_alpha\":{\"value\":0.2},\"fill_color\":{\"value\":\"#1f77b4\"},\"hatch_alpha\":{\"value\":0.2},\"line_alpha\":{\"value\":0.2},\"line_color\":{\"value\":\"#1f77b4\"},\"top\":{\"field\":\"unique\"},\"width\":{\"value\":0.5},\"x\":{\"field\":\"langs\",\"transform\":{\"id\":\"11637\"}}},\"id\":\"11641\",\"type\":\"VBar\"},{\"attributes\":{\"axis\":{\"id\":\"11632\"},\"coordinates\":null,\"dimension\":1,\"group\":null,\"ticker\":null},\"id\":\"11635\",\"type\":\"Grid\"},{\"attributes\":{\"coordinates\":null,\"formatter\":{\"id\":\"11924\"},\"group\":null,\"major_label_orientation\":\"vertical\",\"major_label_policy\":{\"id\":\"11925\"},\"ticker\":{\"id\":\"11630\"}},\"id\":\"11629\",\"type\":\"CategoricalAxis\"},{\"attributes\":{\"tools\":[{\"id\":\"11644\"}]},\"id\":\"11636\",\"type\":\"Toolbar\"}],\"root_ids\":[\"11618\"]},\"title\":\"Bokeh Application\",\"version\":\"2.4.3\"}};\n  const render_items = [{\"docid\":\"27a50fc8-4a7a-494a-8e58-24f254ca80c4\",\"root_ids\":[\"11618\"],\"roots\":{\"11618\":\"958051a0-3d4a-430f-a3ab-7ed3510d0a0b\"}}];\n  root.Bokeh.embed.embed_items_notebook(docs_json, render_items);\n  }\n  if (root.Bokeh !== undefined) {\n    embed_document(root);\n  } else {\n    let attempts = 0;\n    const timer = setInterval(function(root) {\n      if (root.Bokeh !== undefined) {\n        clearInterval(timer);\n        embed_document(root);\n      } else {\n        attempts++;\n        if (attempts > 100) {\n          clearInterval(timer);\n          console.log(\"Bokeh: ERROR: Unable to run BokehJS code because BokehJS library is missing\");\n        }\n      }\n    }, 10, root)\n  }\n})(window);",
      "application/vnd.bokehjs_exec.v0+json": ""
     },
     "metadata": {
      "application/vnd.bokehjs_exec.v0+json": {
       "id": "11618"
      }
     },
     "output_type": "display_data"
    }
   ],
   "source": [
    "from bokeh.plotting import figure, output_notebook, show,output_notebook\n",
    "from bokeh.models import ColumnDataSource,HoverTool\n",
    "from bokeh.transform import dodge\n",
    "\n",
    "langs = pr.index.to_list()\n",
    "data = {'langs' : langs,\n",
    "        'unique'   : [ int(x) for x in pr['unique'].to_list() ]\n",
    "        }\n",
    "source = ColumnDataSource(data=data)\n",
    "\n",
    "    \n",
    "students = [ int(x) for x in pr['unique'].to_list() ]\n",
    "fig = figure(x_range = langs, plot_width = 500, plot_height =400,toolbar_location=None, tools=\"\", title=\"Unique values with under 200 unique values\")\n",
    "fig.xaxis.major_label_orientation = \"vertical\"\n",
    "fig.vbar(x = dodge('langs',  0, range=fig.x_range), top='unique', width = 0.5,name='unique',source=source)\n",
    "\n",
    "# fig.vbar(x=dodge('NullNotNull',  0.15, range=fig.x_range), top='notnull', width=0.2, source=source,\n",
    "#        color=\"#e84d60\", legend_label=\"notnull\",name='notnull')\n",
    "hover = HoverTool()\n",
    "hover.tooltips = \"\"\"\n",
    "<div>\n",
    "    <div><strong>Column:  </strong>@langs</div>\n",
    "    <div><strong>Count: </strong>@$name</div>\n",
    "</div>\"\"\"\n",
    "fig.add_tools(hover)\n",
    "output_notebook()\n",
    "show(fig)"
   ]
  },
  {
   "cell_type": "code",
   "execution_count": 65,
   "metadata": {},
   "outputs": [],
   "source": [
    "from bokeh.plotting import figure, output_notebook, show,output_notebook\n",
    "from bokeh.models import ColumnDataSource,HoverTool\n",
    "from bokeh.transform import dodge\n",
    "\n",
    "NullNotNull = pbjekts.index.to_list()\n",
    "years = ['null', 'notnull']\n",
    "\n",
    "data = {'NullNotNull' : NullNotNull,\n",
    "        'null'   : [ int(x) for x in pbjekts['null'].to_list() ],\n",
    "        'notnull'   : [ int(x) for x in pbjekts['not_null'].to_list() ]}\n",
    "\n",
    "source = ColumnDataSource(data=data)\n"
   ]
  },
  {
   "cell_type": "code",
   "execution_count": 66,
   "metadata": {},
   "outputs": [
    {
     "data": {
      "text/html": [
       "<div class=\"bk-root\">\n",
       "        <a href=\"https://bokeh.org\" target=\"_blank\" class=\"bk-logo bk-logo-small bk-logo-notebook\"></a>\n",
       "        <span id=\"6362\">Loading BokehJS ...</span>\n",
       "    </div>\n"
      ]
     },
     "metadata": {},
     "output_type": "display_data"
    },
    {
     "data": {
      "application/javascript": "(function(root) {\n  function now() {\n    return new Date();\n  }\n\n  const force = true;\n\n  if (typeof root._bokeh_onload_callbacks === \"undefined\" || force === true) {\n    root._bokeh_onload_callbacks = [];\n    root._bokeh_is_loading = undefined;\n  }\n\nconst JS_MIME_TYPE = 'application/javascript';\n  const HTML_MIME_TYPE = 'text/html';\n  const EXEC_MIME_TYPE = 'application/vnd.bokehjs_exec.v0+json';\n  const CLASS_NAME = 'output_bokeh rendered_html';\n\n  /**\n   * Render data to the DOM node\n   */\n  function render(props, node) {\n    const script = document.createElement(\"script\");\n    node.appendChild(script);\n  }\n\n  /**\n   * Handle when an output is cleared or removed\n   */\n  function handleClearOutput(event, handle) {\n    const cell = handle.cell;\n\n    const id = cell.output_area._bokeh_element_id;\n    const server_id = cell.output_area._bokeh_server_id;\n    // Clean up Bokeh references\n    if (id != null && id in Bokeh.index) {\n      Bokeh.index[id].model.document.clear();\n      delete Bokeh.index[id];\n    }\n\n    if (server_id !== undefined) {\n      // Clean up Bokeh references\n      const cmd_clean = \"from bokeh.io.state import curstate; print(curstate().uuid_to_server['\" + server_id + \"'].get_sessions()[0].document.roots[0]._id)\";\n      cell.notebook.kernel.execute(cmd_clean, {\n        iopub: {\n          output: function(msg) {\n            const id = msg.content.text.trim();\n            if (id in Bokeh.index) {\n              Bokeh.index[id].model.document.clear();\n              delete Bokeh.index[id];\n            }\n          }\n        }\n      });\n      // Destroy server and session\n      const cmd_destroy = \"import bokeh.io.notebook as ion; ion.destroy_server('\" + server_id + \"')\";\n      cell.notebook.kernel.execute(cmd_destroy);\n    }\n  }\n\n  /**\n   * Handle when a new output is added\n   */\n  function handleAddOutput(event, handle) {\n    const output_area = handle.output_area;\n    const output = handle.output;\n\n    // limit handleAddOutput to display_data with EXEC_MIME_TYPE content only\n    if ((output.output_type != \"display_data\") || (!Object.prototype.hasOwnProperty.call(output.data, EXEC_MIME_TYPE))) {\n      return\n    }\n\n    const toinsert = output_area.element.find(\".\" + CLASS_NAME.split(' ')[0]);\n\n    if (output.metadata[EXEC_MIME_TYPE][\"id\"] !== undefined) {\n      toinsert[toinsert.length - 1].firstChild.textContent = output.data[JS_MIME_TYPE];\n      // store reference to embed id on output_area\n      output_area._bokeh_element_id = output.metadata[EXEC_MIME_TYPE][\"id\"];\n    }\n    if (output.metadata[EXEC_MIME_TYPE][\"server_id\"] !== undefined) {\n      const bk_div = document.createElement(\"div\");\n      bk_div.innerHTML = output.data[HTML_MIME_TYPE];\n      const script_attrs = bk_div.children[0].attributes;\n      for (let i = 0; i < script_attrs.length; i++) {\n        toinsert[toinsert.length - 1].firstChild.setAttribute(script_attrs[i].name, script_attrs[i].value);\n        toinsert[toinsert.length - 1].firstChild.textContent = bk_div.children[0].textContent\n      }\n      // store reference to server id on output_area\n      output_area._bokeh_server_id = output.metadata[EXEC_MIME_TYPE][\"server_id\"];\n    }\n  }\n\n  function register_renderer(events, OutputArea) {\n\n    function append_mime(data, metadata, element) {\n      // create a DOM node to render to\n      const toinsert = this.create_output_subarea(\n        metadata,\n        CLASS_NAME,\n        EXEC_MIME_TYPE\n      );\n      this.keyboard_manager.register_events(toinsert);\n      // Render to node\n      const props = {data: data, metadata: metadata[EXEC_MIME_TYPE]};\n      render(props, toinsert[toinsert.length - 1]);\n      element.append(toinsert);\n      return toinsert\n    }\n\n    /* Handle when an output is cleared or removed */\n    events.on('clear_output.CodeCell', handleClearOutput);\n    events.on('delete.Cell', handleClearOutput);\n\n    /* Handle when a new output is added */\n    events.on('output_added.OutputArea', handleAddOutput);\n\n    /**\n     * Register the mime type and append_mime function with output_area\n     */\n    OutputArea.prototype.register_mime_type(EXEC_MIME_TYPE, append_mime, {\n      /* Is output safe? */\n      safe: true,\n      /* Index of renderer in `output_area.display_order` */\n      index: 0\n    });\n  }\n\n  // register the mime type if in Jupyter Notebook environment and previously unregistered\n  if (root.Jupyter !== undefined) {\n    const events = require('base/js/events');\n    const OutputArea = require('notebook/js/outputarea').OutputArea;\n\n    if (OutputArea.prototype.mime_types().indexOf(EXEC_MIME_TYPE) == -1) {\n      register_renderer(events, OutputArea);\n    }\n  }\n  if (typeof (root._bokeh_timeout) === \"undefined\" || force === true) {\n    root._bokeh_timeout = Date.now() + 5000;\n    root._bokeh_failed_load = false;\n  }\n\n  const NB_LOAD_WARNING = {'data': {'text/html':\n     \"<div style='background-color: #fdd'>\\n\"+\n     \"<p>\\n\"+\n     \"BokehJS does not appear to have successfully loaded. If loading BokehJS from CDN, this \\n\"+\n     \"may be due to a slow or bad network connection. Possible fixes:\\n\"+\n     \"</p>\\n\"+\n     \"<ul>\\n\"+\n     \"<li>re-rerun `output_notebook()` to attempt to load from CDN again, or</li>\\n\"+\n     \"<li>use INLINE resources instead, as so:</li>\\n\"+\n     \"</ul>\\n\"+\n     \"<code>\\n\"+\n     \"from bokeh.resources import INLINE\\n\"+\n     \"output_notebook(resources=INLINE)\\n\"+\n     \"</code>\\n\"+\n     \"</div>\"}};\n\n  function display_loaded() {\n    const el = document.getElementById(\"6362\");\n    if (el != null) {\n      el.textContent = \"BokehJS is loading...\";\n    }\n    if (root.Bokeh !== undefined) {\n      if (el != null) {\n        el.textContent = \"BokehJS \" + root.Bokeh.version + \" successfully loaded.\";\n      }\n    } else if (Date.now() < root._bokeh_timeout) {\n      setTimeout(display_loaded, 100)\n    }\n  }\n\n  function run_callbacks() {\n    try {\n      root._bokeh_onload_callbacks.forEach(function(callback) {\n        if (callback != null)\n          callback();\n      });\n    } finally {\n      delete root._bokeh_onload_callbacks\n    }\n    console.debug(\"Bokeh: all callbacks have finished\");\n  }\n\n  function load_libs(css_urls, js_urls, callback) {\n    if (css_urls == null) css_urls = [];\n    if (js_urls == null) js_urls = [];\n\n    root._bokeh_onload_callbacks.push(callback);\n    if (root._bokeh_is_loading > 0) {\n      console.debug(\"Bokeh: BokehJS is being loaded, scheduling callback at\", now());\n      return null;\n    }\n    if (js_urls == null || js_urls.length === 0) {\n      run_callbacks();\n      return null;\n    }\n    console.debug(\"Bokeh: BokehJS not loaded, scheduling load and callback at\", now());\n    root._bokeh_is_loading = css_urls.length + js_urls.length;\n\n    function on_load() {\n      root._bokeh_is_loading--;\n      if (root._bokeh_is_loading === 0) {\n        console.debug(\"Bokeh: all BokehJS libraries/stylesheets loaded\");\n        run_callbacks()\n      }\n    }\n\n    function on_error(url) {\n      console.error(\"failed to load \" + url);\n    }\n\n    for (let i = 0; i < css_urls.length; i++) {\n      const url = css_urls[i];\n      const element = document.createElement(\"link\");\n      element.onload = on_load;\n      element.onerror = on_error.bind(null, url);\n      element.rel = \"stylesheet\";\n      element.type = \"text/css\";\n      element.href = url;\n      console.debug(\"Bokeh: injecting link tag for BokehJS stylesheet: \", url);\n      document.body.appendChild(element);\n    }\n\n    for (let i = 0; i < js_urls.length; i++) {\n      const url = js_urls[i];\n      const element = document.createElement('script');\n      element.onload = on_load;\n      element.onerror = on_error.bind(null, url);\n      element.async = false;\n      element.src = url;\n      console.debug(\"Bokeh: injecting script tag for BokehJS library: \", url);\n      document.head.appendChild(element);\n    }\n  };\n\n  function inject_raw_css(css) {\n    const element = document.createElement(\"style\");\n    element.appendChild(document.createTextNode(css));\n    document.body.appendChild(element);\n  }\n\n  const js_urls = [\"https://cdn.bokeh.org/bokeh/release/bokeh-2.4.3.min.js\", \"https://cdn.bokeh.org/bokeh/release/bokeh-gl-2.4.3.min.js\", \"https://cdn.bokeh.org/bokeh/release/bokeh-widgets-2.4.3.min.js\", \"https://cdn.bokeh.org/bokeh/release/bokeh-tables-2.4.3.min.js\", \"https://cdn.bokeh.org/bokeh/release/bokeh-mathjax-2.4.3.min.js\"];\n  const css_urls = [];\n\n  const inline_js = [    function(Bokeh) {\n      Bokeh.set_log_level(\"info\");\n    },\nfunction(Bokeh) {\n    }\n  ];\n\n  function run_inline_js() {\n    if (root.Bokeh !== undefined || force === true) {\n          for (let i = 0; i < inline_js.length; i++) {\n      inline_js[i].call(root, root.Bokeh);\n    }\nif (force === true) {\n        display_loaded();\n      }} else if (Date.now() < root._bokeh_timeout) {\n      setTimeout(run_inline_js, 100);\n    } else if (!root._bokeh_failed_load) {\n      console.log(\"Bokeh: BokehJS failed to load within specified timeout.\");\n      root._bokeh_failed_load = true;\n    } else if (force !== true) {\n      const cell = $(document.getElementById(\"6362\")).parents('.cell').data().cell;\n      cell.output_area.append_execute_result(NB_LOAD_WARNING)\n    }\n  }\n\n  if (root._bokeh_is_loading === 0) {\n    console.debug(\"Bokeh: BokehJS loaded, going straight to plotting\");\n    run_inline_js();\n  } else {\n    load_libs(css_urls, js_urls, function() {\n      console.debug(\"Bokeh: BokehJS plotting callback run at\", now());\n      run_inline_js();\n    });\n  }\n}(window));",
      "application/vnd.bokehjs_load.v0+json": ""
     },
     "metadata": {},
     "output_type": "display_data"
    },
    {
     "data": {
      "text/html": [
       "\n",
       "  <div class=\"bk-root\" id=\"eed4a480-6bca-4a3f-b21c-f939f146de6b\" data-root-id=\"6306\"></div>\n"
      ]
     },
     "metadata": {},
     "output_type": "display_data"
    },
    {
     "data": {
      "application/javascript": "(function(root) {\n  function embed_document(root) {\n  const docs_json = {\"2fb9c20f-32a3-4b7a-b43e-fe342a1aa265\":{\"defs\":[],\"roots\":{\"references\":[{\"attributes\":{\"below\":[{\"id\":\"6317\"}],\"center\":[{\"id\":\"6319\"},{\"id\":\"6323\"},{\"id\":\"6341\"}],\"height\":300,\"left\":[{\"id\":\"6320\"}],\"renderers\":[{\"id\":\"6330\"},{\"id\":\"6348\"}],\"title\":{\"id\":\"6307\"},\"toolbar\":{\"id\":\"6324\"},\"toolbar_location\":null,\"x_range\":{\"id\":\"6309\"},\"x_scale\":{\"id\":\"6313\"},\"y_range\":{\"id\":\"6311\"},\"y_scale\":{\"id\":\"6315\"}},\"id\":\"6306\",\"subtype\":\"Figure\",\"type\":\"Plot\"},{\"attributes\":{\"fill_alpha\":{\"value\":0.2},\"fill_color\":{\"value\":\"#718dbf\"},\"hatch_alpha\":{\"value\":0.2},\"hatch_color\":{\"value\":\"#718dbf\"},\"line_alpha\":{\"value\":0.2},\"line_color\":{\"value\":\"#718dbf\"},\"top\":{\"field\":\"null\"},\"width\":{\"value\":0.2},\"x\":{\"field\":\"NullNotNull\",\"transform\":{\"id\":\"6325\"}}},\"id\":\"6329\",\"type\":\"VBar\"},{\"attributes\":{},\"id\":\"6340\",\"type\":\"Selection\"},{\"attributes\":{\"range\":{\"id\":\"6309\"},\"value\":0.15},\"id\":\"6343\",\"type\":\"Dodge\"},{\"attributes\":{\"coordinates\":null,\"group\":null,\"items\":[{\"id\":\"6342\"},{\"id\":\"6359\"}]},\"id\":\"6341\",\"type\":\"Legend\"},{\"attributes\":{\"coordinates\":null,\"data_source\":{\"id\":\"6305\"},\"glyph\":{\"id\":\"6327\"},\"group\":null,\"hover_glyph\":null,\"muted_glyph\":{\"id\":\"6329\"},\"name\":\"null\",\"nonselection_glyph\":{\"id\":\"6328\"},\"view\":{\"id\":\"6331\"}},\"id\":\"6330\",\"type\":\"GlyphRenderer\"},{\"attributes\":{\"source\":{\"id\":\"6305\"}},\"id\":\"6349\",\"type\":\"CDSView\"},{\"attributes\":{\"fill_alpha\":{\"value\":0.2},\"fill_color\":{\"value\":\"#e84d60\"},\"hatch_alpha\":{\"value\":0.2},\"hatch_color\":{\"value\":\"#e84d60\"},\"line_alpha\":{\"value\":0.2},\"line_color\":{\"value\":\"#e84d60\"},\"top\":{\"field\":\"notnull\"},\"width\":{\"value\":0.2},\"x\":{\"field\":\"NullNotNull\",\"transform\":{\"id\":\"6343\"}}},\"id\":\"6347\",\"type\":\"VBar\"},{\"attributes\":{\"coordinates\":null,\"data_source\":{\"id\":\"6305\"},\"glyph\":{\"id\":\"6345\"},\"group\":null,\"hover_glyph\":null,\"muted_glyph\":{\"id\":\"6347\"},\"name\":\"notnull\",\"nonselection_glyph\":{\"id\":\"6346\"},\"view\":{\"id\":\"6349\"}},\"id\":\"6348\",\"type\":\"GlyphRenderer\"},{\"attributes\":{\"source\":{\"id\":\"6305\"}},\"id\":\"6331\",\"type\":\"CDSView\"},{\"attributes\":{\"factors\":[\"Buchungskreis\",\"Belegnummer\",\"Gesch\\u00e4ftsjahr\",\"Belegart\",\"Belegdatum\",\"Buchungsdatum\",\"Buchungsperiode\",\"Erfassungsdatum\",\"Erfassungsuhrzeit\",\"Ge\\u00e4ndert am\",\"Letzte Fortschreib\",\"Umrechnungsdatum\",\"Transaktionscode\",\"\\u00dcbergreifende Nr\",\"Referenz\",\"Jahr\",\"Belegkopftext\",\"W\\u00e4hrung\",\"Umrechnungskurs\",\"Konzernw\\u00e4hrung\",\"Konzernkurs\",\"Belegstatus\",\"Dokumentenname im Archivsystem\"]},\"id\":\"6309\",\"type\":\"FactorRange\"},{\"attributes\":{\"fill_color\":{\"value\":\"#e84d60\"},\"hatch_color\":{\"value\":\"#e84d60\"},\"line_color\":{\"value\":\"#e84d60\"},\"top\":{\"field\":\"notnull\"},\"width\":{\"value\":0.2},\"x\":{\"field\":\"NullNotNull\",\"transform\":{\"id\":\"6343\"}}},\"id\":\"6345\",\"type\":\"VBar\"},{\"attributes\":{},\"id\":\"6334\",\"type\":\"BasicTickFormatter\"},{\"attributes\":{},\"id\":\"6335\",\"type\":\"AllLabels\"},{\"attributes\":{},\"id\":\"6311\",\"type\":\"DataRange1d\"},{\"attributes\":{},\"id\":\"6315\",\"type\":\"LinearScale\"},{\"attributes\":{\"fill_alpha\":{\"value\":0.1},\"fill_color\":{\"value\":\"#e84d60\"},\"hatch_alpha\":{\"value\":0.1},\"hatch_color\":{\"value\":\"#e84d60\"},\"line_alpha\":{\"value\":0.1},\"line_color\":{\"value\":\"#e84d60\"},\"top\":{\"field\":\"notnull\"},\"width\":{\"value\":0.2},\"x\":{\"field\":\"NullNotNull\",\"transform\":{\"id\":\"6343\"}}},\"id\":\"6346\",\"type\":\"VBar\"},{\"attributes\":{\"range\":{\"id\":\"6309\"},\"value\":-0.15},\"id\":\"6325\",\"type\":\"Dodge\"},{\"attributes\":{},\"id\":\"6313\",\"type\":\"CategoricalScale\"},{\"attributes\":{\"data\":{\"NullNotNull\":[\"Buchungskreis\",\"Belegnummer\",\"Gesch\\u00e4ftsjahr\",\"Belegart\",\"Belegdatum\",\"Buchungsdatum\",\"Buchungsperiode\",\"Erfassungsdatum\",\"Erfassungsuhrzeit\",\"Ge\\u00e4ndert am\",\"Letzte Fortschreib\",\"Umrechnungsdatum\",\"Transaktionscode\",\"\\u00dcbergreifende Nr\",\"Referenz\",\"Jahr\",\"Belegkopftext\",\"W\\u00e4hrung\",\"Umrechnungskurs\",\"Konzernw\\u00e4hrung\",\"Konzernkurs\",\"Belegstatus\",\"Dokumentenname im Archivsystem\"],\"notnull\":[2500,2500,2500,2500,2500,2500,2500,2500,2500,0,0,2500,2500,0,0,0,0,2500,0,0,0,0,0],\"null\":[0,0,0,0,0,0,0,0,0,2500,2500,0,0,2500,2500,2500,2500,0,2500,2500,2500,2500,2500]},\"selected\":{\"id\":\"6340\"},\"selection_policy\":{\"id\":\"6339\"}},\"id\":\"6305\",\"type\":\"ColumnDataSource\"},{\"attributes\":{\"coordinates\":null,\"formatter\":{\"id\":\"6337\"},\"group\":null,\"major_label_orientation\":\"vertical\",\"major_label_policy\":{\"id\":\"6338\"},\"ticker\":{\"id\":\"6318\"}},\"id\":\"6317\",\"type\":\"CategoricalAxis\"},{\"attributes\":{\"coordinates\":null,\"group\":null,\"text\":\"Null vs NotNull\"},\"id\":\"6307\",\"type\":\"Title\"},{\"attributes\":{\"coordinates\":null,\"formatter\":{\"id\":\"6334\"},\"group\":null,\"major_label_policy\":{\"id\":\"6335\"},\"ticker\":{\"id\":\"6321\"}},\"id\":\"6320\",\"type\":\"LinearAxis\"},{\"attributes\":{\"fill_color\":{\"value\":\"#718dbf\"},\"hatch_color\":{\"value\":\"#718dbf\"},\"line_color\":{\"value\":\"#718dbf\"},\"top\":{\"field\":\"null\"},\"width\":{\"value\":0.2},\"x\":{\"field\":\"NullNotNull\",\"transform\":{\"id\":\"6325\"}}},\"id\":\"6327\",\"type\":\"VBar\"},{\"attributes\":{},\"id\":\"6318\",\"type\":\"CategoricalTicker\"},{\"attributes\":{\"axis\":{\"id\":\"6317\"},\"coordinates\":null,\"group\":null,\"ticker\":null},\"id\":\"6319\",\"type\":\"Grid\"},{\"attributes\":{\"axis\":{\"id\":\"6320\"},\"coordinates\":null,\"dimension\":1,\"group\":null,\"ticker\":null},\"id\":\"6323\",\"type\":\"Grid\"},{\"attributes\":{},\"id\":\"6321\",\"type\":\"BasicTicker\"},{\"attributes\":{\"callback\":null,\"tooltips\":\"\\n<div>\\n    <div><strong>Column:  </strong>@NullNotNull</div>\\n    <div><strong>Count: </strong>@$name</div>\\n</div>\"},\"id\":\"6360\",\"type\":\"HoverTool\"},{\"attributes\":{\"tools\":[{\"id\":\"6360\"}]},\"id\":\"6324\",\"type\":\"Toolbar\"},{\"attributes\":{},\"id\":\"6339\",\"type\":\"UnionRenderers\"},{\"attributes\":{\"label\":{\"value\":\"null\"},\"renderers\":[{\"id\":\"6330\"}]},\"id\":\"6342\",\"type\":\"LegendItem\"},{\"attributes\":{},\"id\":\"6338\",\"type\":\"AllLabels\"},{\"attributes\":{\"label\":{\"value\":\"notnull\"},\"renderers\":[{\"id\":\"6348\"}]},\"id\":\"6359\",\"type\":\"LegendItem\"},{\"attributes\":{},\"id\":\"6337\",\"type\":\"CategoricalTickFormatter\"},{\"attributes\":{\"fill_alpha\":{\"value\":0.1},\"fill_color\":{\"value\":\"#718dbf\"},\"hatch_alpha\":{\"value\":0.1},\"hatch_color\":{\"value\":\"#718dbf\"},\"line_alpha\":{\"value\":0.1},\"line_color\":{\"value\":\"#718dbf\"},\"top\":{\"field\":\"null\"},\"width\":{\"value\":0.2},\"x\":{\"field\":\"NullNotNull\",\"transform\":{\"id\":\"6325\"}}},\"id\":\"6328\",\"type\":\"VBar\"}],\"root_ids\":[\"6306\"]},\"title\":\"Bokeh Application\",\"version\":\"2.4.3\"}};\n  const render_items = [{\"docid\":\"2fb9c20f-32a3-4b7a-b43e-fe342a1aa265\",\"root_ids\":[\"6306\"],\"roots\":{\"6306\":\"eed4a480-6bca-4a3f-b21c-f939f146de6b\"}}];\n  root.Bokeh.embed.embed_items_notebook(docs_json, render_items);\n  }\n  if (root.Bokeh !== undefined) {\n    embed_document(root);\n  } else {\n    let attempts = 0;\n    const timer = setInterval(function(root) {\n      if (root.Bokeh !== undefined) {\n        clearInterval(timer);\n        embed_document(root);\n      } else {\n        attempts++;\n        if (attempts > 100) {\n          clearInterval(timer);\n          console.log(\"Bokeh: ERROR: Unable to run BokehJS code because BokehJS library is missing\");\n        }\n      }\n    }, 10, root)\n  }\n})(window);",
      "application/vnd.bokehjs_exec.v0+json": ""
     },
     "metadata": {
      "application/vnd.bokehjs_exec.v0+json": {
       "id": "6306"
      }
     },
     "output_type": "display_data"
    }
   ],
   "source": [
    "#fig = figure(x_range = NullNotNull, plot_width = 300, plot_height = 300)\n",
    "fig = figure(x_range=NullNotNull, height=300, plot_height = 300, title=\"Null vs NotNull\",\n",
    "           toolbar_location=None, tools=\"\")\n",
    "\n",
    "fig.xaxis.major_label_orientation = \"vertical\"\n",
    "\n",
    "\n",
    "fig.vbar(x=dodge('NullNotNull',  -0.15,  range=fig.x_range), top='null', width=0.2, source=source,\n",
    "       color=\"#718dbf\", legend_label=\"null\",name='null')\n",
    "\n",
    "fig.vbar(x=dodge('NullNotNull',  0.15, range=fig.x_range), top='notnull', width=0.2, source=source,\n",
    "       color=\"#e84d60\", legend_label=\"notnull\",name='notnull')\n",
    "hover = HoverTool()\n",
    "hover.tooltips = \"\"\"\n",
    "<div>\n",
    "    <div><strong>Column:  </strong>@NullNotNull</div>\n",
    "    <div><strong>Count: </strong>@$name</div>\n",
    "</div>\"\"\"\n",
    "fig.add_tools(hover)\n",
    "output_notebook()\n",
    "show(fig)"
   ]
  },
  {
   "cell_type": "code",
   "execution_count": 11,
   "metadata": {},
   "outputs": [
    {
     "data": {
      "text/html": [
       "<div>\n",
       "<style scoped>\n",
       "    .dataframe tbody tr th:only-of-type {\n",
       "        vertical-align: middle;\n",
       "    }\n",
       "\n",
       "    .dataframe tbody tr th {\n",
       "        vertical-align: top;\n",
       "    }\n",
       "\n",
       "    .dataframe thead th {\n",
       "        text-align: right;\n",
       "    }\n",
       "</style>\n",
       "<table border=\"1\" class=\"dataframe\">\n",
       "  <thead>\n",
       "    <tr style=\"text-align: right;\">\n",
       "      <th></th>\n",
       "      <th>Buchungskreis</th>\n",
       "      <th>Belegnummer</th>\n",
       "      <th>Geschäftsjahr</th>\n",
       "      <th>Buchungsperiode</th>\n",
       "      <th>Geändert am</th>\n",
       "      <th>Letzte Fortschreib</th>\n",
       "      <th>Übergreifende Nr</th>\n",
       "      <th>Referenz</th>\n",
       "      <th>Belegkopftext</th>\n",
       "      <th>Umrechnungskurs</th>\n",
       "      <th>Konzernwährung</th>\n",
       "      <th>Konzernkurs</th>\n",
       "      <th>Belegstatus</th>\n",
       "      <th>Dokumentenname im Archivsystem</th>\n",
       "    </tr>\n",
       "  </thead>\n",
       "  <tbody>\n",
       "    <tr>\n",
       "      <th>count</th>\n",
       "      <td>2500.0</td>\n",
       "      <td>2.500000e+03</td>\n",
       "      <td>2500.0</td>\n",
       "      <td>2500.0</td>\n",
       "      <td>0.0</td>\n",
       "      <td>0.0</td>\n",
       "      <td>0.0</td>\n",
       "      <td>0.0</td>\n",
       "      <td>0.0</td>\n",
       "      <td>0.0</td>\n",
       "      <td>0.0</td>\n",
       "      <td>0.0</td>\n",
       "      <td>0.0</td>\n",
       "      <td>0.0</td>\n",
       "    </tr>\n",
       "    <tr>\n",
       "      <th>mean</th>\n",
       "      <td>1710.0</td>\n",
       "      <td>8.595655e+08</td>\n",
       "      <td>2016.0</td>\n",
       "      <td>1.0</td>\n",
       "      <td>NaN</td>\n",
       "      <td>NaN</td>\n",
       "      <td>NaN</td>\n",
       "      <td>NaN</td>\n",
       "      <td>NaN</td>\n",
       "      <td>NaN</td>\n",
       "      <td>NaN</td>\n",
       "      <td>NaN</td>\n",
       "      <td>NaN</td>\n",
       "      <td>NaN</td>\n",
       "    </tr>\n",
       "    <tr>\n",
       "      <th>std</th>\n",
       "      <td>0.0</td>\n",
       "      <td>8.453429e+08</td>\n",
       "      <td>0.0</td>\n",
       "      <td>0.0</td>\n",
       "      <td>NaN</td>\n",
       "      <td>NaN</td>\n",
       "      <td>NaN</td>\n",
       "      <td>NaN</td>\n",
       "      <td>NaN</td>\n",
       "      <td>NaN</td>\n",
       "      <td>NaN</td>\n",
       "      <td>NaN</td>\n",
       "      <td>NaN</td>\n",
       "      <td>NaN</td>\n",
       "    </tr>\n",
       "    <tr>\n",
       "      <th>min</th>\n",
       "      <td>1710.0</td>\n",
       "      <td>1.000021e+08</td>\n",
       "      <td>2016.0</td>\n",
       "      <td>1.0</td>\n",
       "      <td>NaN</td>\n",
       "      <td>NaN</td>\n",
       "      <td>NaN</td>\n",
       "      <td>NaN</td>\n",
       "      <td>NaN</td>\n",
       "      <td>NaN</td>\n",
       "      <td>NaN</td>\n",
       "      <td>NaN</td>\n",
       "      <td>NaN</td>\n",
       "      <td>NaN</td>\n",
       "    </tr>\n",
       "    <tr>\n",
       "      <th>25%</th>\n",
       "      <td>1710.0</td>\n",
       "      <td>1.000063e+08</td>\n",
       "      <td>2016.0</td>\n",
       "      <td>1.0</td>\n",
       "      <td>NaN</td>\n",
       "      <td>NaN</td>\n",
       "      <td>NaN</td>\n",
       "      <td>NaN</td>\n",
       "      <td>NaN</td>\n",
       "      <td>NaN</td>\n",
       "      <td>NaN</td>\n",
       "      <td>NaN</td>\n",
       "      <td>NaN</td>\n",
       "      <td>NaN</td>\n",
       "    </tr>\n",
       "    <tr>\n",
       "      <th>50%</th>\n",
       "      <td>1710.0</td>\n",
       "      <td>1.000105e+08</td>\n",
       "      <td>2016.0</td>\n",
       "      <td>1.0</td>\n",
       "      <td>NaN</td>\n",
       "      <td>NaN</td>\n",
       "      <td>NaN</td>\n",
       "      <td>NaN</td>\n",
       "      <td>NaN</td>\n",
       "      <td>NaN</td>\n",
       "      <td>NaN</td>\n",
       "      <td>NaN</td>\n",
       "      <td>NaN</td>\n",
       "      <td>NaN</td>\n",
       "    </tr>\n",
       "    <tr>\n",
       "      <th>75%</th>\n",
       "      <td>1710.0</td>\n",
       "      <td>1.800003e+09</td>\n",
       "      <td>2016.0</td>\n",
       "      <td>1.0</td>\n",
       "      <td>NaN</td>\n",
       "      <td>NaN</td>\n",
       "      <td>NaN</td>\n",
       "      <td>NaN</td>\n",
       "      <td>NaN</td>\n",
       "      <td>NaN</td>\n",
       "      <td>NaN</td>\n",
       "      <td>NaN</td>\n",
       "      <td>NaN</td>\n",
       "      <td>NaN</td>\n",
       "    </tr>\n",
       "    <tr>\n",
       "      <th>max</th>\n",
       "      <td>1710.0</td>\n",
       "      <td>1.800009e+09</td>\n",
       "      <td>2016.0</td>\n",
       "      <td>1.0</td>\n",
       "      <td>NaN</td>\n",
       "      <td>NaN</td>\n",
       "      <td>NaN</td>\n",
       "      <td>NaN</td>\n",
       "      <td>NaN</td>\n",
       "      <td>NaN</td>\n",
       "      <td>NaN</td>\n",
       "      <td>NaN</td>\n",
       "      <td>NaN</td>\n",
       "      <td>NaN</td>\n",
       "    </tr>\n",
       "  </tbody>\n",
       "</table>\n",
       "</div>"
      ],
      "text/plain": [
       "       Buchungskreis   Belegnummer  Geschäftsjahr  Buchungsperiode  \\\n",
       "count         2500.0  2.500000e+03         2500.0           2500.0   \n",
       "mean          1710.0  8.595655e+08         2016.0              1.0   \n",
       "std              0.0  8.453429e+08            0.0              0.0   \n",
       "min           1710.0  1.000021e+08         2016.0              1.0   \n",
       "25%           1710.0  1.000063e+08         2016.0              1.0   \n",
       "50%           1710.0  1.000105e+08         2016.0              1.0   \n",
       "75%           1710.0  1.800003e+09         2016.0              1.0   \n",
       "max           1710.0  1.800009e+09         2016.0              1.0   \n",
       "\n",
       "       Geändert am  Letzte Fortschreib  Übergreifende Nr  Referenz  \\\n",
       "count          0.0                 0.0               0.0       0.0   \n",
       "mean           NaN                 NaN               NaN       NaN   \n",
       "std            NaN                 NaN               NaN       NaN   \n",
       "min            NaN                 NaN               NaN       NaN   \n",
       "25%            NaN                 NaN               NaN       NaN   \n",
       "50%            NaN                 NaN               NaN       NaN   \n",
       "75%            NaN                 NaN               NaN       NaN   \n",
       "max            NaN                 NaN               NaN       NaN   \n",
       "\n",
       "       Belegkopftext  Umrechnungskurs  Konzernwährung  Konzernkurs  \\\n",
       "count            0.0              0.0             0.0          0.0   \n",
       "mean             NaN              NaN             NaN          NaN   \n",
       "std              NaN              NaN             NaN          NaN   \n",
       "min              NaN              NaN             NaN          NaN   \n",
       "25%              NaN              NaN             NaN          NaN   \n",
       "50%              NaN              NaN             NaN          NaN   \n",
       "75%              NaN              NaN             NaN          NaN   \n",
       "max              NaN              NaN             NaN          NaN   \n",
       "\n",
       "       Belegstatus  Dokumentenname im Archivsystem  \n",
       "count          0.0                             0.0  \n",
       "mean           NaN                             NaN  \n",
       "std            NaN                             NaN  \n",
       "min            NaN                             NaN  \n",
       "25%            NaN                             NaN  \n",
       "50%            NaN                             NaN  \n",
       "75%            NaN                             NaN  \n",
       "max            NaN                             NaN  "
      ]
     },
     "execution_count": 11,
     "metadata": {},
     "output_type": "execute_result"
    }
   ],
   "source": [
    "df.describe()\n"
   ]
  },
  {
   "cell_type": "code",
   "execution_count": 12,
   "metadata": {},
   "outputs": [
    {
     "data": {
      "text/html": [
       "<div>\n",
       "<style scoped>\n",
       "    .dataframe tbody tr th:only-of-type {\n",
       "        vertical-align: middle;\n",
       "    }\n",
       "\n",
       "    .dataframe tbody tr th {\n",
       "        vertical-align: top;\n",
       "    }\n",
       "\n",
       "    .dataframe thead th {\n",
       "        text-align: right;\n",
       "    }\n",
       "</style>\n",
       "<table border=\"1\" class=\"dataframe\">\n",
       "  <thead>\n",
       "    <tr style=\"text-align: right;\">\n",
       "      <th></th>\n",
       "      <th>Buchungskreis</th>\n",
       "      <th>Belegnummer</th>\n",
       "      <th>Geschäftsjahr</th>\n",
       "      <th>Belegart</th>\n",
       "      <th>Belegdatum</th>\n",
       "      <th>Buchungsdatum</th>\n",
       "      <th>Buchungsperiode</th>\n",
       "      <th>Erfassungsdatum</th>\n",
       "      <th>Erfassungsuhrzeit</th>\n",
       "      <th>Geändert am</th>\n",
       "      <th>...</th>\n",
       "      <th>Übergreifende Nr</th>\n",
       "      <th>Referenz</th>\n",
       "      <th>Jahr</th>\n",
       "      <th>Belegkopftext</th>\n",
       "      <th>Währung</th>\n",
       "      <th>Umrechnungskurs</th>\n",
       "      <th>Konzernwährung</th>\n",
       "      <th>Konzernkurs</th>\n",
       "      <th>Belegstatus</th>\n",
       "      <th>Dokumentenname im Archivsystem</th>\n",
       "    </tr>\n",
       "  </thead>\n",
       "  <tbody>\n",
       "    <tr>\n",
       "      <th>count</th>\n",
       "      <td>2500</td>\n",
       "      <td>2500</td>\n",
       "      <td>2500</td>\n",
       "      <td>2500</td>\n",
       "      <td>2500</td>\n",
       "      <td>2500</td>\n",
       "      <td>2500</td>\n",
       "      <td>2500</td>\n",
       "      <td>2500</td>\n",
       "      <td>0</td>\n",
       "      <td>...</td>\n",
       "      <td>0</td>\n",
       "      <td>0</td>\n",
       "      <td>0</td>\n",
       "      <td>0</td>\n",
       "      <td>2500</td>\n",
       "      <td>0</td>\n",
       "      <td>0</td>\n",
       "      <td>0</td>\n",
       "      <td>0</td>\n",
       "      <td>0</td>\n",
       "    </tr>\n",
       "    <tr>\n",
       "      <th>unique</th>\n",
       "      <td>1</td>\n",
       "      <td>2500</td>\n",
       "      <td>1</td>\n",
       "      <td>2</td>\n",
       "      <td>20</td>\n",
       "      <td>20</td>\n",
       "      <td>1</td>\n",
       "      <td>1</td>\n",
       "      <td>596</td>\n",
       "      <td>0</td>\n",
       "      <td>...</td>\n",
       "      <td>0</td>\n",
       "      <td>0</td>\n",
       "      <td>0</td>\n",
       "      <td>0</td>\n",
       "      <td>1</td>\n",
       "      <td>0</td>\n",
       "      <td>0</td>\n",
       "      <td>0</td>\n",
       "      <td>0</td>\n",
       "      <td>0</td>\n",
       "    </tr>\n",
       "    <tr>\n",
       "      <th>top</th>\n",
       "      <td>1710</td>\n",
       "      <td>100002131</td>\n",
       "      <td>2016</td>\n",
       "      <td>SA</td>\n",
       "      <td>2016-01-01 00:00:00</td>\n",
       "      <td>2016-01-01 00:00:00</td>\n",
       "      <td>1</td>\n",
       "      <td>2016-12-15 00:00:00</td>\n",
       "      <td>1900-01-01 11:53:01</td>\n",
       "      <td>NaN</td>\n",
       "      <td>...</td>\n",
       "      <td>NaN</td>\n",
       "      <td>NaN</td>\n",
       "      <td>NaN</td>\n",
       "      <td>NaN</td>\n",
       "      <td>USD</td>\n",
       "      <td>NaN</td>\n",
       "      <td>NaN</td>\n",
       "      <td>NaN</td>\n",
       "      <td>NaN</td>\n",
       "      <td>NaN</td>\n",
       "    </tr>\n",
       "    <tr>\n",
       "      <th>freq</th>\n",
       "      <td>2500</td>\n",
       "      <td>1</td>\n",
       "      <td>2500</td>\n",
       "      <td>1383</td>\n",
       "      <td>144</td>\n",
       "      <td>144</td>\n",
       "      <td>2500</td>\n",
       "      <td>2500</td>\n",
       "      <td>10</td>\n",
       "      <td>NaN</td>\n",
       "      <td>...</td>\n",
       "      <td>NaN</td>\n",
       "      <td>NaN</td>\n",
       "      <td>NaN</td>\n",
       "      <td>NaN</td>\n",
       "      <td>2500</td>\n",
       "      <td>NaN</td>\n",
       "      <td>NaN</td>\n",
       "      <td>NaN</td>\n",
       "      <td>NaN</td>\n",
       "      <td>NaN</td>\n",
       "    </tr>\n",
       "  </tbody>\n",
       "</table>\n",
       "<p>4 rows × 23 columns</p>\n",
       "</div>"
      ],
      "text/plain": [
       "       Buchungskreis Belegnummer Geschäftsjahr Belegart           Belegdatum  \\\n",
       "count           2500        2500          2500     2500                 2500   \n",
       "unique             1        2500             1        2                   20   \n",
       "top             1710   100002131          2016       SA  2016-01-01 00:00:00   \n",
       "freq            2500           1          2500     1383                  144   \n",
       "\n",
       "              Buchungsdatum Buchungsperiode      Erfassungsdatum  \\\n",
       "count                  2500            2500                 2500   \n",
       "unique                   20               1                    1   \n",
       "top     2016-01-01 00:00:00               1  2016-12-15 00:00:00   \n",
       "freq                    144            2500                 2500   \n",
       "\n",
       "          Erfassungsuhrzeit Geändert am  ... Übergreifende Nr Referenz Jahr  \\\n",
       "count                  2500           0  ...                0        0    0   \n",
       "unique                  596           0  ...                0        0    0   \n",
       "top     1900-01-01 11:53:01         NaN  ...              NaN      NaN  NaN   \n",
       "freq                     10         NaN  ...              NaN      NaN  NaN   \n",
       "\n",
       "       Belegkopftext Währung Umrechnungskurs Konzernwährung Konzernkurs  \\\n",
       "count              0    2500               0              0           0   \n",
       "unique             0       1               0              0           0   \n",
       "top              NaN     USD             NaN            NaN         NaN   \n",
       "freq             NaN    2500             NaN            NaN         NaN   \n",
       "\n",
       "       Belegstatus Dokumentenname im Archivsystem  \n",
       "count            0                              0  \n",
       "unique           0                              0  \n",
       "top            NaN                            NaN  \n",
       "freq           NaN                            NaN  \n",
       "\n",
       "[4 rows x 23 columns]"
      ]
     },
     "execution_count": 12,
     "metadata": {},
     "output_type": "execute_result"
    }
   ],
   "source": [
    "df_string.describe()"
   ]
  },
  {
   "cell_type": "code",
   "execution_count": 13,
   "metadata": {},
   "outputs": [],
   "source": [
    "column_data=df_string.describe()['count':'unique'].transpose()\n",
    "column_data=column_data[column_data['count']!=0]\n",
    "column_data_für_kar=column_data[column_data['unique']<=10]\n",
    "kar_list=column_data_für_kar.index.to_list()"
   ]
  },
  {
   "cell_type": "code",
   "execution_count": 33,
   "metadata": {},
   "outputs": [],
   "source": [
    "from turtle import backward\n",
    "\n",
    "\n",
    "def anteil_null_values(df,column):\n",
    "    null=df[column].isna().sum()\n",
    "    notnull=df[column].count()\n",
    "    explode=(0, 0.1)\n",
    "    fig1, ax1 = plt.subplots()\n",
    "    plt.title(f\"Percentage of null values of {column}\")\n",
    "    ax1.pie([null,notnull], explode=explode, labels=['Null Values', 'Not Null Values'], autopct='%1.1f%%',\n",
    "        shadow=True, startangle=90,)\n",
    "    ax1.axis('equal')  # Equal aspect ratio ensures that pie is drawn as a circle.\n",
    "    plt.show()"
   ]
  },
  {
   "cell_type": "code",
   "execution_count": 42,
   "metadata": {},
   "outputs": [
    {
     "data": {
      "text/html": [
       "<div class=\"bk-root\">\n",
       "        <a href=\"https://bokeh.org\" target=\"_blank\" class=\"bk-logo bk-logo-small bk-logo-notebook\"></a>\n",
       "        <span id=\"2201\">Loading BokehJS ...</span>\n",
       "    </div>\n"
      ]
     },
     "metadata": {},
     "output_type": "display_data"
    },
    {
     "data": {
      "application/javascript": "(function(root) {\n  function now() {\n    return new Date();\n  }\n\n  const force = true;\n\n  if (typeof root._bokeh_onload_callbacks === \"undefined\" || force === true) {\n    root._bokeh_onload_callbacks = [];\n    root._bokeh_is_loading = undefined;\n  }\n\nconst JS_MIME_TYPE = 'application/javascript';\n  const HTML_MIME_TYPE = 'text/html';\n  const EXEC_MIME_TYPE = 'application/vnd.bokehjs_exec.v0+json';\n  const CLASS_NAME = 'output_bokeh rendered_html';\n\n  /**\n   * Render data to the DOM node\n   */\n  function render(props, node) {\n    const script = document.createElement(\"script\");\n    node.appendChild(script);\n  }\n\n  /**\n   * Handle when an output is cleared or removed\n   */\n  function handleClearOutput(event, handle) {\n    const cell = handle.cell;\n\n    const id = cell.output_area._bokeh_element_id;\n    const server_id = cell.output_area._bokeh_server_id;\n    // Clean up Bokeh references\n    if (id != null && id in Bokeh.index) {\n      Bokeh.index[id].model.document.clear();\n      delete Bokeh.index[id];\n    }\n\n    if (server_id !== undefined) {\n      // Clean up Bokeh references\n      const cmd_clean = \"from bokeh.io.state import curstate; print(curstate().uuid_to_server['\" + server_id + \"'].get_sessions()[0].document.roots[0]._id)\";\n      cell.notebook.kernel.execute(cmd_clean, {\n        iopub: {\n          output: function(msg) {\n            const id = msg.content.text.trim();\n            if (id in Bokeh.index) {\n              Bokeh.index[id].model.document.clear();\n              delete Bokeh.index[id];\n            }\n          }\n        }\n      });\n      // Destroy server and session\n      const cmd_destroy = \"import bokeh.io.notebook as ion; ion.destroy_server('\" + server_id + \"')\";\n      cell.notebook.kernel.execute(cmd_destroy);\n    }\n  }\n\n  /**\n   * Handle when a new output is added\n   */\n  function handleAddOutput(event, handle) {\n    const output_area = handle.output_area;\n    const output = handle.output;\n\n    // limit handleAddOutput to display_data with EXEC_MIME_TYPE content only\n    if ((output.output_type != \"display_data\") || (!Object.prototype.hasOwnProperty.call(output.data, EXEC_MIME_TYPE))) {\n      return\n    }\n\n    const toinsert = output_area.element.find(\".\" + CLASS_NAME.split(' ')[0]);\n\n    if (output.metadata[EXEC_MIME_TYPE][\"id\"] !== undefined) {\n      toinsert[toinsert.length - 1].firstChild.textContent = output.data[JS_MIME_TYPE];\n      // store reference to embed id on output_area\n      output_area._bokeh_element_id = output.metadata[EXEC_MIME_TYPE][\"id\"];\n    }\n    if (output.metadata[EXEC_MIME_TYPE][\"server_id\"] !== undefined) {\n      const bk_div = document.createElement(\"div\");\n      bk_div.innerHTML = output.data[HTML_MIME_TYPE];\n      const script_attrs = bk_div.children[0].attributes;\n      for (let i = 0; i < script_attrs.length; i++) {\n        toinsert[toinsert.length - 1].firstChild.setAttribute(script_attrs[i].name, script_attrs[i].value);\n        toinsert[toinsert.length - 1].firstChild.textContent = bk_div.children[0].textContent\n      }\n      // store reference to server id on output_area\n      output_area._bokeh_server_id = output.metadata[EXEC_MIME_TYPE][\"server_id\"];\n    }\n  }\n\n  function register_renderer(events, OutputArea) {\n\n    function append_mime(data, metadata, element) {\n      // create a DOM node to render to\n      const toinsert = this.create_output_subarea(\n        metadata,\n        CLASS_NAME,\n        EXEC_MIME_TYPE\n      );\n      this.keyboard_manager.register_events(toinsert);\n      // Render to node\n      const props = {data: data, metadata: metadata[EXEC_MIME_TYPE]};\n      render(props, toinsert[toinsert.length - 1]);\n      element.append(toinsert);\n      return toinsert\n    }\n\n    /* Handle when an output is cleared or removed */\n    events.on('clear_output.CodeCell', handleClearOutput);\n    events.on('delete.Cell', handleClearOutput);\n\n    /* Handle when a new output is added */\n    events.on('output_added.OutputArea', handleAddOutput);\n\n    /**\n     * Register the mime type and append_mime function with output_area\n     */\n    OutputArea.prototype.register_mime_type(EXEC_MIME_TYPE, append_mime, {\n      /* Is output safe? */\n      safe: true,\n      /* Index of renderer in `output_area.display_order` */\n      index: 0\n    });\n  }\n\n  // register the mime type if in Jupyter Notebook environment and previously unregistered\n  if (root.Jupyter !== undefined) {\n    const events = require('base/js/events');\n    const OutputArea = require('notebook/js/outputarea').OutputArea;\n\n    if (OutputArea.prototype.mime_types().indexOf(EXEC_MIME_TYPE) == -1) {\n      register_renderer(events, OutputArea);\n    }\n  }\n  if (typeof (root._bokeh_timeout) === \"undefined\" || force === true) {\n    root._bokeh_timeout = Date.now() + 5000;\n    root._bokeh_failed_load = false;\n  }\n\n  const NB_LOAD_WARNING = {'data': {'text/html':\n     \"<div style='background-color: #fdd'>\\n\"+\n     \"<p>\\n\"+\n     \"BokehJS does not appear to have successfully loaded. If loading BokehJS from CDN, this \\n\"+\n     \"may be due to a slow or bad network connection. Possible fixes:\\n\"+\n     \"</p>\\n\"+\n     \"<ul>\\n\"+\n     \"<li>re-rerun `output_notebook()` to attempt to load from CDN again, or</li>\\n\"+\n     \"<li>use INLINE resources instead, as so:</li>\\n\"+\n     \"</ul>\\n\"+\n     \"<code>\\n\"+\n     \"from bokeh.resources import INLINE\\n\"+\n     \"output_notebook(resources=INLINE)\\n\"+\n     \"</code>\\n\"+\n     \"</div>\"}};\n\n  function display_loaded() {\n    const el = document.getElementById(\"2201\");\n    if (el != null) {\n      el.textContent = \"BokehJS is loading...\";\n    }\n    if (root.Bokeh !== undefined) {\n      if (el != null) {\n        el.textContent = \"BokehJS \" + root.Bokeh.version + \" successfully loaded.\";\n      }\n    } else if (Date.now() < root._bokeh_timeout) {\n      setTimeout(display_loaded, 100)\n    }\n  }\n\n  function run_callbacks() {\n    try {\n      root._bokeh_onload_callbacks.forEach(function(callback) {\n        if (callback != null)\n          callback();\n      });\n    } finally {\n      delete root._bokeh_onload_callbacks\n    }\n    console.debug(\"Bokeh: all callbacks have finished\");\n  }\n\n  function load_libs(css_urls, js_urls, callback) {\n    if (css_urls == null) css_urls = [];\n    if (js_urls == null) js_urls = [];\n\n    root._bokeh_onload_callbacks.push(callback);\n    if (root._bokeh_is_loading > 0) {\n      console.debug(\"Bokeh: BokehJS is being loaded, scheduling callback at\", now());\n      return null;\n    }\n    if (js_urls == null || js_urls.length === 0) {\n      run_callbacks();\n      return null;\n    }\n    console.debug(\"Bokeh: BokehJS not loaded, scheduling load and callback at\", now());\n    root._bokeh_is_loading = css_urls.length + js_urls.length;\n\n    function on_load() {\n      root._bokeh_is_loading--;\n      if (root._bokeh_is_loading === 0) {\n        console.debug(\"Bokeh: all BokehJS libraries/stylesheets loaded\");\n        run_callbacks()\n      }\n    }\n\n    function on_error(url) {\n      console.error(\"failed to load \" + url);\n    }\n\n    for (let i = 0; i < css_urls.length; i++) {\n      const url = css_urls[i];\n      const element = document.createElement(\"link\");\n      element.onload = on_load;\n      element.onerror = on_error.bind(null, url);\n      element.rel = \"stylesheet\";\n      element.type = \"text/css\";\n      element.href = url;\n      console.debug(\"Bokeh: injecting link tag for BokehJS stylesheet: \", url);\n      document.body.appendChild(element);\n    }\n\n    for (let i = 0; i < js_urls.length; i++) {\n      const url = js_urls[i];\n      const element = document.createElement('script');\n      element.onload = on_load;\n      element.onerror = on_error.bind(null, url);\n      element.async = false;\n      element.src = url;\n      console.debug(\"Bokeh: injecting script tag for BokehJS library: \", url);\n      document.head.appendChild(element);\n    }\n  };\n\n  function inject_raw_css(css) {\n    const element = document.createElement(\"style\");\n    element.appendChild(document.createTextNode(css));\n    document.body.appendChild(element);\n  }\n\n  const js_urls = [\"https://cdn.bokeh.org/bokeh/release/bokeh-2.4.3.min.js\", \"https://cdn.bokeh.org/bokeh/release/bokeh-gl-2.4.3.min.js\", \"https://cdn.bokeh.org/bokeh/release/bokeh-widgets-2.4.3.min.js\", \"https://cdn.bokeh.org/bokeh/release/bokeh-tables-2.4.3.min.js\", \"https://cdn.bokeh.org/bokeh/release/bokeh-mathjax-2.4.3.min.js\"];\n  const css_urls = [];\n\n  const inline_js = [    function(Bokeh) {\n      Bokeh.set_log_level(\"info\");\n    },\nfunction(Bokeh) {\n    }\n  ];\n\n  function run_inline_js() {\n    if (root.Bokeh !== undefined || force === true) {\n          for (let i = 0; i < inline_js.length; i++) {\n      inline_js[i].call(root, root.Bokeh);\n    }\nif (force === true) {\n        display_loaded();\n      }} else if (Date.now() < root._bokeh_timeout) {\n      setTimeout(run_inline_js, 100);\n    } else if (!root._bokeh_failed_load) {\n      console.log(\"Bokeh: BokehJS failed to load within specified timeout.\");\n      root._bokeh_failed_load = true;\n    } else if (force !== true) {\n      const cell = $(document.getElementById(\"2201\")).parents('.cell').data().cell;\n      cell.output_area.append_execute_result(NB_LOAD_WARNING)\n    }\n  }\n\n  if (root._bokeh_is_loading === 0) {\n    console.debug(\"Bokeh: BokehJS loaded, going straight to plotting\");\n    run_inline_js();\n  } else {\n    load_libs(css_urls, js_urls, function() {\n      console.debug(\"Bokeh: BokehJS plotting callback run at\", now());\n      run_inline_js();\n    });\n  }\n}(window));",
      "application/vnd.bokehjs_load.v0+json": ""
     },
     "metadata": {},
     "output_type": "display_data"
    },
    {
     "data": {
      "text/html": [
       "\n",
       "  <div class=\"bk-root\" id=\"655aa5c4-0d7a-4a80-915f-031791c29b1c\" data-root-id=\"2165\"></div>\n"
      ]
     },
     "metadata": {},
     "output_type": "display_data"
    },
    {
     "data": {
      "application/javascript": "(function(root) {\n  function embed_document(root) {\n  const docs_json = {\"d9ad0d1a-e743-46d3-a234-64847bfbe584\":{\"defs\":[],\"roots\":{\"references\":[{\"attributes\":{\"below\":[{\"id\":\"2174\"}],\"center\":[{\"id\":\"2176\"},{\"id\":\"2180\"}],\"height\":300,\"left\":[{\"id\":\"2177\"}],\"renderers\":[{\"id\":\"2199\"}],\"title\":{\"id\":\"2213\"},\"toolbar\":{\"id\":\"2188\"},\"width\":300,\"x_range\":{\"id\":\"2166\"},\"x_scale\":{\"id\":\"2170\"},\"y_range\":{\"id\":\"2168\"},\"y_scale\":{\"id\":\"2172\"}},\"id\":\"2165\",\"subtype\":\"Figure\",\"type\":\"Plot\"},{\"attributes\":{\"axis\":{\"id\":\"2174\"},\"coordinates\":null,\"group\":null,\"ticker\":null},\"id\":\"2176\",\"type\":\"Grid\"},{\"attributes\":{\"coordinates\":null,\"formatter\":{\"id\":\"2219\"},\"group\":null,\"major_label_orientation\":\"vertical\",\"major_label_policy\":{\"id\":\"2220\"},\"ticker\":{\"id\":\"2175\"}},\"id\":\"2174\",\"type\":\"CategoricalAxis\"},{\"attributes\":{\"axis\":{\"id\":\"2177\"},\"coordinates\":null,\"dimension\":1,\"group\":null,\"ticker\":null},\"id\":\"2180\",\"type\":\"Grid\"},{\"attributes\":{},\"id\":\"2178\",\"type\":\"BasicTicker\"},{\"attributes\":{\"overlay\":{\"id\":\"2187\"}},\"id\":\"2183\",\"type\":\"BoxZoomTool\"},{\"attributes\":{},\"id\":\"2182\",\"type\":\"WheelZoomTool\"},{\"attributes\":{\"coordinates\":null,\"group\":null},\"id\":\"2213\",\"type\":\"Title\"},{\"attributes\":{\"tools\":[{\"id\":\"2181\"},{\"id\":\"2182\"},{\"id\":\"2183\"},{\"id\":\"2184\"},{\"id\":\"2185\"},{\"id\":\"2186\"}]},\"id\":\"2188\",\"type\":\"Toolbar\"},{\"attributes\":{},\"id\":\"2186\",\"type\":\"HelpTool\"},{\"attributes\":{},\"id\":\"2184\",\"type\":\"SaveTool\"},{\"attributes\":{},\"id\":\"2221\",\"type\":\"UnionRenderers\"},{\"attributes\":{\"data\":{\"top\":[2500,1710,0,1710,1710,1710,1710,1710],\"x\":[\"count\",\"mean\",\"std\",\"min\",\"25%\",\"50%\",\"75%\",\"max\"]},\"selected\":{\"id\":\"2222\"},\"selection_policy\":{\"id\":\"2221\"}},\"id\":\"2195\",\"type\":\"ColumnDataSource\"},{\"attributes\":{},\"id\":\"2220\",\"type\":\"AllLabels\"},{\"attributes\":{},\"id\":\"2172\",\"type\":\"LinearScale\"},{\"attributes\":{\"factors\":[\"count\",\"mean\",\"std\",\"min\",\"25%\",\"50%\",\"75%\",\"max\"]},\"id\":\"2166\",\"type\":\"FactorRange\"},{\"attributes\":{},\"id\":\"2185\",\"type\":\"ResetTool\"},{\"attributes\":{},\"id\":\"2222\",\"type\":\"Selection\"},{\"attributes\":{},\"id\":\"2181\",\"type\":\"PanTool\"},{\"attributes\":{\"fill_color\":{\"value\":\"#1f77b4\"},\"line_color\":{\"value\":\"#1f77b4\"},\"top\":{\"field\":\"top\"},\"width\":{\"value\":0.5},\"x\":{\"field\":\"x\"}},\"id\":\"2196\",\"type\":\"VBar\"},{\"attributes\":{\"source\":{\"id\":\"2195\"}},\"id\":\"2200\",\"type\":\"CDSView\"},{\"attributes\":{},\"id\":\"2175\",\"type\":\"CategoricalTicker\"},{\"attributes\":{\"coordinates\":null,\"data_source\":{\"id\":\"2195\"},\"glyph\":{\"id\":\"2196\"},\"group\":null,\"hover_glyph\":null,\"muted_glyph\":{\"id\":\"2198\"},\"nonselection_glyph\":{\"id\":\"2197\"},\"view\":{\"id\":\"2200\"}},\"id\":\"2199\",\"type\":\"GlyphRenderer\"},{\"attributes\":{},\"id\":\"2170\",\"type\":\"CategoricalScale\"},{\"attributes\":{\"bottom_units\":\"screen\",\"coordinates\":null,\"fill_alpha\":0.5,\"fill_color\":\"lightgrey\",\"group\":null,\"left_units\":\"screen\",\"level\":\"overlay\",\"line_alpha\":1.0,\"line_color\":\"black\",\"line_dash\":[4,4],\"line_width\":2,\"right_units\":\"screen\",\"syncable\":false,\"top_units\":\"screen\"},\"id\":\"2187\",\"type\":\"BoxAnnotation\"},{\"attributes\":{\"fill_alpha\":{\"value\":0.1},\"fill_color\":{\"value\":\"#1f77b4\"},\"hatch_alpha\":{\"value\":0.1},\"line_alpha\":{\"value\":0.1},\"line_color\":{\"value\":\"#1f77b4\"},\"top\":{\"field\":\"top\"},\"width\":{\"value\":0.5},\"x\":{\"field\":\"x\"}},\"id\":\"2197\",\"type\":\"VBar\"},{\"attributes\":{},\"id\":\"2216\",\"type\":\"BasicTickFormatter\"},{\"attributes\":{},\"id\":\"2168\",\"type\":\"DataRange1d\"},{\"attributes\":{},\"id\":\"2217\",\"type\":\"AllLabels\"},{\"attributes\":{},\"id\":\"2219\",\"type\":\"CategoricalTickFormatter\"},{\"attributes\":{\"fill_alpha\":{\"value\":0.2},\"fill_color\":{\"value\":\"#1f77b4\"},\"hatch_alpha\":{\"value\":0.2},\"line_alpha\":{\"value\":0.2},\"line_color\":{\"value\":\"#1f77b4\"},\"top\":{\"field\":\"top\"},\"width\":{\"value\":0.5},\"x\":{\"field\":\"x\"}},\"id\":\"2198\",\"type\":\"VBar\"},{\"attributes\":{\"coordinates\":null,\"formatter\":{\"id\":\"2216\"},\"group\":null,\"major_label_policy\":{\"id\":\"2217\"},\"ticker\":{\"id\":\"2178\"}},\"id\":\"2177\",\"type\":\"LinearAxis\"}],\"root_ids\":[\"2165\"]},\"title\":\"Bokeh Application\",\"version\":\"2.4.3\"}};\n  const render_items = [{\"docid\":\"d9ad0d1a-e743-46d3-a234-64847bfbe584\",\"root_ids\":[\"2165\"],\"roots\":{\"2165\":\"655aa5c4-0d7a-4a80-915f-031791c29b1c\"}}];\n  root.Bokeh.embed.embed_items_notebook(docs_json, render_items);\n  }\n  if (root.Bokeh !== undefined) {\n    embed_document(root);\n  } else {\n    let attempts = 0;\n    const timer = setInterval(function(root) {\n      if (root.Bokeh !== undefined) {\n        clearInterval(timer);\n        embed_document(root);\n      } else {\n        attempts++;\n        if (attempts > 100) {\n          clearInterval(timer);\n          console.log(\"Bokeh: ERROR: Unable to run BokehJS code because BokehJS library is missing\");\n        }\n      }\n    }, 10, root)\n  }\n})(window);",
      "application/vnd.bokehjs_exec.v0+json": ""
     },
     "metadata": {
      "application/vnd.bokehjs_exec.v0+json": {
       "id": "2165"
      }
     },
     "output_type": "display_data"
    }
   ],
   "source": [
    "from bokeh.plotting import figure, output_notebook, show,output_notebook\n",
    "\n",
    "values=df.describe()\n",
    "values\n",
    "langs = values.index.to_list()\n",
    "students = [ int(x) for x in values['Buchungskreis'].to_list() ]\n",
    "fig = figure(x_range = langs, plot_width = 300, plot_height = 300)\n",
    "fig.xaxis.major_label_orientation = \"vertical\"\n",
    "fig.vbar(x = langs, top = students, width = 0.5)\n",
    "output_notebook()\n",
    "show(fig)"
   ]
  },
  {
   "cell_type": "code",
   "execution_count": 37,
   "metadata": {},
   "outputs": [
    {
     "data": {
      "text/html": [
       "<div>\n",
       "<style scoped>\n",
       "    .dataframe tbody tr th:only-of-type {\n",
       "        vertical-align: middle;\n",
       "    }\n",
       "\n",
       "    .dataframe tbody tr th {\n",
       "        vertical-align: top;\n",
       "    }\n",
       "\n",
       "    .dataframe thead th {\n",
       "        text-align: right;\n",
       "    }\n",
       "</style>\n",
       "<table border=\"1\" class=\"dataframe\">\n",
       "  <thead>\n",
       "    <tr style=\"text-align: right;\">\n",
       "      <th></th>\n",
       "      <th>index</th>\n",
       "      <th>Buchungskreis</th>\n",
       "    </tr>\n",
       "  </thead>\n",
       "  <tbody>\n",
       "    <tr>\n",
       "      <th>0</th>\n",
       "      <td>1710</td>\n",
       "      <td>2500</td>\n",
       "    </tr>\n",
       "  </tbody>\n",
       "</table>\n",
       "</div>"
      ],
      "text/plain": [
       "  index  Buchungskreis\n",
       "0  1710           2500"
      ]
     },
     "execution_count": 37,
     "metadata": {},
     "output_type": "execute_result"
    }
   ],
   "source": [
    "from bokeh.plotting import figure, output_notebook, show,output_notebook\n",
    "values=pd.DataFrame(df_string['Buchungskreis'].value_counts()).reset_index(drop=False)\n",
    "values"
   ]
  },
  {
   "cell_type": "code",
   "execution_count": 40,
   "metadata": {},
   "outputs": [
    {
     "data": {
      "text/html": [
       "<div class=\"bk-root\">\n",
       "        <a href=\"https://bokeh.org\" target=\"_blank\" class=\"bk-logo bk-logo-small bk-logo-notebook\"></a>\n",
       "        <span id=\"2098\">Loading BokehJS ...</span>\n",
       "    </div>\n"
      ]
     },
     "metadata": {},
     "output_type": "display_data"
    },
    {
     "data": {
      "application/javascript": "(function(root) {\n  function now() {\n    return new Date();\n  }\n\n  const force = true;\n\n  if (typeof root._bokeh_onload_callbacks === \"undefined\" || force === true) {\n    root._bokeh_onload_callbacks = [];\n    root._bokeh_is_loading = undefined;\n  }\n\nconst JS_MIME_TYPE = 'application/javascript';\n  const HTML_MIME_TYPE = 'text/html';\n  const EXEC_MIME_TYPE = 'application/vnd.bokehjs_exec.v0+json';\n  const CLASS_NAME = 'output_bokeh rendered_html';\n\n  /**\n   * Render data to the DOM node\n   */\n  function render(props, node) {\n    const script = document.createElement(\"script\");\n    node.appendChild(script);\n  }\n\n  /**\n   * Handle when an output is cleared or removed\n   */\n  function handleClearOutput(event, handle) {\n    const cell = handle.cell;\n\n    const id = cell.output_area._bokeh_element_id;\n    const server_id = cell.output_area._bokeh_server_id;\n    // Clean up Bokeh references\n    if (id != null && id in Bokeh.index) {\n      Bokeh.index[id].model.document.clear();\n      delete Bokeh.index[id];\n    }\n\n    if (server_id !== undefined) {\n      // Clean up Bokeh references\n      const cmd_clean = \"from bokeh.io.state import curstate; print(curstate().uuid_to_server['\" + server_id + \"'].get_sessions()[0].document.roots[0]._id)\";\n      cell.notebook.kernel.execute(cmd_clean, {\n        iopub: {\n          output: function(msg) {\n            const id = msg.content.text.trim();\n            if (id in Bokeh.index) {\n              Bokeh.index[id].model.document.clear();\n              delete Bokeh.index[id];\n            }\n          }\n        }\n      });\n      // Destroy server and session\n      const cmd_destroy = \"import bokeh.io.notebook as ion; ion.destroy_server('\" + server_id + \"')\";\n      cell.notebook.kernel.execute(cmd_destroy);\n    }\n  }\n\n  /**\n   * Handle when a new output is added\n   */\n  function handleAddOutput(event, handle) {\n    const output_area = handle.output_area;\n    const output = handle.output;\n\n    // limit handleAddOutput to display_data with EXEC_MIME_TYPE content only\n    if ((output.output_type != \"display_data\") || (!Object.prototype.hasOwnProperty.call(output.data, EXEC_MIME_TYPE))) {\n      return\n    }\n\n    const toinsert = output_area.element.find(\".\" + CLASS_NAME.split(' ')[0]);\n\n    if (output.metadata[EXEC_MIME_TYPE][\"id\"] !== undefined) {\n      toinsert[toinsert.length - 1].firstChild.textContent = output.data[JS_MIME_TYPE];\n      // store reference to embed id on output_area\n      output_area._bokeh_element_id = output.metadata[EXEC_MIME_TYPE][\"id\"];\n    }\n    if (output.metadata[EXEC_MIME_TYPE][\"server_id\"] !== undefined) {\n      const bk_div = document.createElement(\"div\");\n      bk_div.innerHTML = output.data[HTML_MIME_TYPE];\n      const script_attrs = bk_div.children[0].attributes;\n      for (let i = 0; i < script_attrs.length; i++) {\n        toinsert[toinsert.length - 1].firstChild.setAttribute(script_attrs[i].name, script_attrs[i].value);\n        toinsert[toinsert.length - 1].firstChild.textContent = bk_div.children[0].textContent\n      }\n      // store reference to server id on output_area\n      output_area._bokeh_server_id = output.metadata[EXEC_MIME_TYPE][\"server_id\"];\n    }\n  }\n\n  function register_renderer(events, OutputArea) {\n\n    function append_mime(data, metadata, element) {\n      // create a DOM node to render to\n      const toinsert = this.create_output_subarea(\n        metadata,\n        CLASS_NAME,\n        EXEC_MIME_TYPE\n      );\n      this.keyboard_manager.register_events(toinsert);\n      // Render to node\n      const props = {data: data, metadata: metadata[EXEC_MIME_TYPE]};\n      render(props, toinsert[toinsert.length - 1]);\n      element.append(toinsert);\n      return toinsert\n    }\n\n    /* Handle when an output is cleared or removed */\n    events.on('clear_output.CodeCell', handleClearOutput);\n    events.on('delete.Cell', handleClearOutput);\n\n    /* Handle when a new output is added */\n    events.on('output_added.OutputArea', handleAddOutput);\n\n    /**\n     * Register the mime type and append_mime function with output_area\n     */\n    OutputArea.prototype.register_mime_type(EXEC_MIME_TYPE, append_mime, {\n      /* Is output safe? */\n      safe: true,\n      /* Index of renderer in `output_area.display_order` */\n      index: 0\n    });\n  }\n\n  // register the mime type if in Jupyter Notebook environment and previously unregistered\n  if (root.Jupyter !== undefined) {\n    const events = require('base/js/events');\n    const OutputArea = require('notebook/js/outputarea').OutputArea;\n\n    if (OutputArea.prototype.mime_types().indexOf(EXEC_MIME_TYPE) == -1) {\n      register_renderer(events, OutputArea);\n    }\n  }\n  if (typeof (root._bokeh_timeout) === \"undefined\" || force === true) {\n    root._bokeh_timeout = Date.now() + 5000;\n    root._bokeh_failed_load = false;\n  }\n\n  const NB_LOAD_WARNING = {'data': {'text/html':\n     \"<div style='background-color: #fdd'>\\n\"+\n     \"<p>\\n\"+\n     \"BokehJS does not appear to have successfully loaded. If loading BokehJS from CDN, this \\n\"+\n     \"may be due to a slow or bad network connection. Possible fixes:\\n\"+\n     \"</p>\\n\"+\n     \"<ul>\\n\"+\n     \"<li>re-rerun `output_notebook()` to attempt to load from CDN again, or</li>\\n\"+\n     \"<li>use INLINE resources instead, as so:</li>\\n\"+\n     \"</ul>\\n\"+\n     \"<code>\\n\"+\n     \"from bokeh.resources import INLINE\\n\"+\n     \"output_notebook(resources=INLINE)\\n\"+\n     \"</code>\\n\"+\n     \"</div>\"}};\n\n  function display_loaded() {\n    const el = document.getElementById(\"2098\");\n    if (el != null) {\n      el.textContent = \"BokehJS is loading...\";\n    }\n    if (root.Bokeh !== undefined) {\n      if (el != null) {\n        el.textContent = \"BokehJS \" + root.Bokeh.version + \" successfully loaded.\";\n      }\n    } else if (Date.now() < root._bokeh_timeout) {\n      setTimeout(display_loaded, 100)\n    }\n  }\n\n  function run_callbacks() {\n    try {\n      root._bokeh_onload_callbacks.forEach(function(callback) {\n        if (callback != null)\n          callback();\n      });\n    } finally {\n      delete root._bokeh_onload_callbacks\n    }\n    console.debug(\"Bokeh: all callbacks have finished\");\n  }\n\n  function load_libs(css_urls, js_urls, callback) {\n    if (css_urls == null) css_urls = [];\n    if (js_urls == null) js_urls = [];\n\n    root._bokeh_onload_callbacks.push(callback);\n    if (root._bokeh_is_loading > 0) {\n      console.debug(\"Bokeh: BokehJS is being loaded, scheduling callback at\", now());\n      return null;\n    }\n    if (js_urls == null || js_urls.length === 0) {\n      run_callbacks();\n      return null;\n    }\n    console.debug(\"Bokeh: BokehJS not loaded, scheduling load and callback at\", now());\n    root._bokeh_is_loading = css_urls.length + js_urls.length;\n\n    function on_load() {\n      root._bokeh_is_loading--;\n      if (root._bokeh_is_loading === 0) {\n        console.debug(\"Bokeh: all BokehJS libraries/stylesheets loaded\");\n        run_callbacks()\n      }\n    }\n\n    function on_error(url) {\n      console.error(\"failed to load \" + url);\n    }\n\n    for (let i = 0; i < css_urls.length; i++) {\n      const url = css_urls[i];\n      const element = document.createElement(\"link\");\n      element.onload = on_load;\n      element.onerror = on_error.bind(null, url);\n      element.rel = \"stylesheet\";\n      element.type = \"text/css\";\n      element.href = url;\n      console.debug(\"Bokeh: injecting link tag for BokehJS stylesheet: \", url);\n      document.body.appendChild(element);\n    }\n\n    for (let i = 0; i < js_urls.length; i++) {\n      const url = js_urls[i];\n      const element = document.createElement('script');\n      element.onload = on_load;\n      element.onerror = on_error.bind(null, url);\n      element.async = false;\n      element.src = url;\n      console.debug(\"Bokeh: injecting script tag for BokehJS library: \", url);\n      document.head.appendChild(element);\n    }\n  };\n\n  function inject_raw_css(css) {\n    const element = document.createElement(\"style\");\n    element.appendChild(document.createTextNode(css));\n    document.body.appendChild(element);\n  }\n\n  const js_urls = [\"https://cdn.bokeh.org/bokeh/release/bokeh-2.4.3.min.js\", \"https://cdn.bokeh.org/bokeh/release/bokeh-gl-2.4.3.min.js\", \"https://cdn.bokeh.org/bokeh/release/bokeh-widgets-2.4.3.min.js\", \"https://cdn.bokeh.org/bokeh/release/bokeh-tables-2.4.3.min.js\", \"https://cdn.bokeh.org/bokeh/release/bokeh-mathjax-2.4.3.min.js\"];\n  const css_urls = [];\n\n  const inline_js = [    function(Bokeh) {\n      Bokeh.set_log_level(\"info\");\n    },\nfunction(Bokeh) {\n    }\n  ];\n\n  function run_inline_js() {\n    if (root.Bokeh !== undefined || force === true) {\n          for (let i = 0; i < inline_js.length; i++) {\n      inline_js[i].call(root, root.Bokeh);\n    }\nif (force === true) {\n        display_loaded();\n      }} else if (Date.now() < root._bokeh_timeout) {\n      setTimeout(run_inline_js, 100);\n    } else if (!root._bokeh_failed_load) {\n      console.log(\"Bokeh: BokehJS failed to load within specified timeout.\");\n      root._bokeh_failed_load = true;\n    } else if (force !== true) {\n      const cell = $(document.getElementById(\"2098\")).parents('.cell').data().cell;\n      cell.output_area.append_execute_result(NB_LOAD_WARNING)\n    }\n  }\n\n  if (root._bokeh_is_loading === 0) {\n    console.debug(\"Bokeh: BokehJS loaded, going straight to plotting\");\n    run_inline_js();\n  } else {\n    load_libs(css_urls, js_urls, function() {\n      console.debug(\"Bokeh: BokehJS plotting callback run at\", now());\n      run_inline_js();\n    });\n  }\n}(window));",
      "application/vnd.bokehjs_load.v0+json": ""
     },
     "metadata": {},
     "output_type": "display_data"
    },
    {
     "data": {
      "text/html": [
       "\n",
       "  <div class=\"bk-root\" id=\"88e89511-eabe-457b-80e2-803b12d4b02d\" data-root-id=\"2062\"></div>\n"
      ]
     },
     "metadata": {},
     "output_type": "display_data"
    },
    {
     "data": {
      "application/javascript": "(function(root) {\n  function embed_document(root) {\n  const docs_json = {\"4f8a14d4-4920-44b9-86c6-1a633359eac8\":{\"defs\":[],\"roots\":{\"references\":[{\"attributes\":{\"below\":[{\"id\":\"2071\"}],\"center\":[{\"id\":\"2073\"},{\"id\":\"2077\"}],\"height\":300,\"left\":[{\"id\":\"2074\"}],\"renderers\":[{\"id\":\"2096\"}],\"title\":{\"id\":\"2099\"},\"toolbar\":{\"id\":\"2085\"},\"width\":300,\"x_range\":{\"id\":\"2063\"},\"x_scale\":{\"id\":\"2067\"},\"y_range\":{\"id\":\"2065\"},\"y_scale\":{\"id\":\"2069\"}},\"id\":\"2062\",\"subtype\":\"Figure\",\"type\":\"Plot\"},{\"attributes\":{},\"id\":\"2106\",\"type\":\"AllLabels\"},{\"attributes\":{},\"id\":\"2067\",\"type\":\"CategoricalScale\"},{\"attributes\":{\"factors\":[\"1710\"]},\"id\":\"2063\",\"type\":\"FactorRange\"},{\"attributes\":{},\"id\":\"2083\",\"type\":\"HelpTool\"},{\"attributes\":{\"axis\":{\"id\":\"2074\"},\"coordinates\":null,\"dimension\":1,\"group\":null,\"ticker\":null},\"id\":\"2077\",\"type\":\"Grid\"},{\"attributes\":{},\"id\":\"2102\",\"type\":\"BasicTickFormatter\"},{\"attributes\":{},\"id\":\"2075\",\"type\":\"BasicTicker\"},{\"attributes\":{\"coordinates\":null,\"group\":null},\"id\":\"2099\",\"type\":\"Title\"},{\"attributes\":{},\"id\":\"2107\",\"type\":\"UnionRenderers\"},{\"attributes\":{},\"id\":\"2072\",\"type\":\"CategoricalTicker\"},{\"attributes\":{},\"id\":\"2079\",\"type\":\"WheelZoomTool\"},{\"attributes\":{},\"id\":\"2078\",\"type\":\"PanTool\"},{\"attributes\":{\"overlay\":{\"id\":\"2084\"}},\"id\":\"2080\",\"type\":\"BoxZoomTool\"},{\"attributes\":{},\"id\":\"2108\",\"type\":\"Selection\"},{\"attributes\":{\"coordinates\":null,\"data_source\":{\"id\":\"2092\"},\"glyph\":{\"id\":\"2093\"},\"group\":null,\"hover_glyph\":null,\"muted_glyph\":{\"id\":\"2095\"},\"nonselection_glyph\":{\"id\":\"2094\"},\"view\":{\"id\":\"2097\"}},\"id\":\"2096\",\"type\":\"GlyphRenderer\"},{\"attributes\":{\"bottom_units\":\"screen\",\"coordinates\":null,\"fill_alpha\":0.5,\"fill_color\":\"lightgrey\",\"group\":null,\"left_units\":\"screen\",\"level\":\"overlay\",\"line_alpha\":1.0,\"line_color\":\"black\",\"line_dash\":[4,4],\"line_width\":2,\"right_units\":\"screen\",\"syncable\":false,\"top_units\":\"screen\"},\"id\":\"2084\",\"type\":\"BoxAnnotation\"},{\"attributes\":{},\"id\":\"2069\",\"type\":\"LinearScale\"},{\"attributes\":{\"coordinates\":null,\"formatter\":{\"id\":\"2102\"},\"group\":null,\"major_label_policy\":{\"id\":\"2103\"},\"ticker\":{\"id\":\"2075\"}},\"id\":\"2074\",\"type\":\"LinearAxis\"},{\"attributes\":{\"source\":{\"id\":\"2092\"}},\"id\":\"2097\",\"type\":\"CDSView\"},{\"attributes\":{\"tools\":[{\"id\":\"2078\"},{\"id\":\"2079\"},{\"id\":\"2080\"},{\"id\":\"2081\"},{\"id\":\"2082\"},{\"id\":\"2083\"}]},\"id\":\"2085\",\"type\":\"Toolbar\"},{\"attributes\":{\"data\":{\"top\":[2500],\"x\":[\"1710\"]},\"selected\":{\"id\":\"2108\"},\"selection_policy\":{\"id\":\"2107\"}},\"id\":\"2092\",\"type\":\"ColumnDataSource\"},{\"attributes\":{},\"id\":\"2103\",\"type\":\"AllLabels\"},{\"attributes\":{\"fill_color\":{\"value\":\"#1f77b4\"},\"line_color\":{\"value\":\"#1f77b4\"},\"top\":{\"field\":\"top\"},\"width\":{\"value\":0.5},\"x\":{\"field\":\"x\"}},\"id\":\"2093\",\"type\":\"VBar\"},{\"attributes\":{\"fill_alpha\":{\"value\":0.2},\"fill_color\":{\"value\":\"#1f77b4\"},\"hatch_alpha\":{\"value\":0.2},\"line_alpha\":{\"value\":0.2},\"line_color\":{\"value\":\"#1f77b4\"},\"top\":{\"field\":\"top\"},\"width\":{\"value\":0.5},\"x\":{\"field\":\"x\"}},\"id\":\"2095\",\"type\":\"VBar\"},{\"attributes\":{\"fill_alpha\":{\"value\":0.1},\"fill_color\":{\"value\":\"#1f77b4\"},\"hatch_alpha\":{\"value\":0.1},\"line_alpha\":{\"value\":0.1},\"line_color\":{\"value\":\"#1f77b4\"},\"top\":{\"field\":\"top\"},\"width\":{\"value\":0.5},\"x\":{\"field\":\"x\"}},\"id\":\"2094\",\"type\":\"VBar\"},{\"attributes\":{},\"id\":\"2081\",\"type\":\"SaveTool\"},{\"attributes\":{},\"id\":\"2082\",\"type\":\"ResetTool\"},{\"attributes\":{},\"id\":\"2105\",\"type\":\"CategoricalTickFormatter\"},{\"attributes\":{\"coordinates\":null,\"formatter\":{\"id\":\"2105\"},\"group\":null,\"major_label_orientation\":\"vertical\",\"major_label_policy\":{\"id\":\"2106\"},\"ticker\":{\"id\":\"2072\"}},\"id\":\"2071\",\"type\":\"CategoricalAxis\"},{\"attributes\":{},\"id\":\"2065\",\"type\":\"DataRange1d\"},{\"attributes\":{\"axis\":{\"id\":\"2071\"},\"coordinates\":null,\"group\":null,\"ticker\":null},\"id\":\"2073\",\"type\":\"Grid\"}],\"root_ids\":[\"2062\"]},\"title\":\"Bokeh Application\",\"version\":\"2.4.3\"}};\n  const render_items = [{\"docid\":\"4f8a14d4-4920-44b9-86c6-1a633359eac8\",\"root_ids\":[\"2062\"],\"roots\":{\"2062\":\"88e89511-eabe-457b-80e2-803b12d4b02d\"}}];\n  root.Bokeh.embed.embed_items_notebook(docs_json, render_items);\n  }\n  if (root.Bokeh !== undefined) {\n    embed_document(root);\n  } else {\n    let attempts = 0;\n    const timer = setInterval(function(root) {\n      if (root.Bokeh !== undefined) {\n        clearInterval(timer);\n        embed_document(root);\n      } else {\n        attempts++;\n        if (attempts > 100) {\n          clearInterval(timer);\n          console.log(\"Bokeh: ERROR: Unable to run BokehJS code because BokehJS library is missing\");\n        }\n      }\n    }, 10, root)\n  }\n})(window);",
      "application/vnd.bokehjs_exec.v0+json": ""
     },
     "metadata": {
      "application/vnd.bokehjs_exec.v0+json": {
       "id": "2062"
      }
     },
     "output_type": "display_data"
    }
   ],
   "source": [
    "\n",
    "langs = values['index'].to_list()\n",
    "students = [ int(x) for x in values['Buchungskreis'].to_list() ]\n",
    "fig = figure(x_range = langs, plot_width = 300, plot_height = 300)\n",
    "fig.xaxis.major_label_orientation = \"vertical\"\n",
    "fig.vbar(x = langs, top = students, width = 0.5)\n",
    "output_notebook()\n",
    "show(fig)"
   ]
  },
  {
   "cell_type": "code",
   "execution_count": 26,
   "metadata": {},
   "outputs": [
    {
     "data": {
      "text/html": [
       "<div>\n",
       "<style scoped>\n",
       "    .dataframe tbody tr th:only-of-type {\n",
       "        vertical-align: middle;\n",
       "    }\n",
       "\n",
       "    .dataframe tbody tr th {\n",
       "        vertical-align: top;\n",
       "    }\n",
       "\n",
       "    .dataframe thead th {\n",
       "        text-align: right;\n",
       "    }\n",
       "</style>\n",
       "<table border=\"1\" class=\"dataframe\">\n",
       "  <thead>\n",
       "    <tr style=\"text-align: right;\">\n",
       "      <th></th>\n",
       "      <th>index</th>\n",
       "      <th>types</th>\n",
       "    </tr>\n",
       "  </thead>\n",
       "  <tbody>\n",
       "    <tr>\n",
       "      <th>0</th>\n",
       "      <td>float64</td>\n",
       "      <td>10</td>\n",
       "    </tr>\n",
       "    <tr>\n",
       "      <th>1</th>\n",
       "      <td>datetime64[ns]</td>\n",
       "      <td>5</td>\n",
       "    </tr>\n",
       "    <tr>\n",
       "      <th>2</th>\n",
       "      <td>int32</td>\n",
       "      <td>4</td>\n",
       "    </tr>\n",
       "    <tr>\n",
       "      <th>3</th>\n",
       "      <td>object</td>\n",
       "      <td>4</td>\n",
       "    </tr>\n",
       "  </tbody>\n",
       "</table>\n",
       "</div>"
      ],
      "text/plain": [
       "            index  types\n",
       "0         float64     10\n",
       "1  datetime64[ns]      5\n",
       "2           int32      4\n",
       "3          object      4"
      ]
     },
     "execution_count": 26,
     "metadata": {},
     "output_type": "execute_result"
    }
   ],
   "source": [
    "from math import pi\n",
    "\n",
    "import pandas as pd\n",
    "\n",
    "from bokeh.io import output_file, show\n",
    "from bokeh.palettes import BuGn,PRGn\n",
    "from bokeh.plotting import figure\n",
    "from bokeh.transform import cumsum\n",
    "from bokeh.plotting import figure, output_notebook, show\n",
    "\n",
    "\n",
    "# ax1.pie(types_df['types'], explode=explode, labels=types_df['index'], autopct='%1.1f%%', pctdistance=0.7,labeldistance=1.05,radius=2000, \n",
    "#     shadow=True, startangle=90)\n",
    "types_df=pd.DataFrame(pbjekts['types'].value_counts()).reset_index(drop=False)\n",
    "types_df"
   ]
  },
  {
   "cell_type": "code",
   "execution_count": 27,
   "metadata": {},
   "outputs": [],
   "source": [
    "types_df['types']\n",
    "data= types_df.copy()\n",
    "data=data.rename(columns={'index':'type','types':'number'})\n",
    "#z=data.set_index('type').to_dict()['number']\n",
    "studentDict = dict(zip(data.type.astype(str), data.number))\n",
    "data_fix = pd.Series(studentDict).reset_index(name='value').rename(columns={'index': 'country'})\n"
   ]
  },
  {
   "cell_type": "code",
   "execution_count": 29,
   "metadata": {},
   "outputs": [
    {
     "data": {
      "text/html": [
       "<div>\n",
       "<style scoped>\n",
       "    .dataframe tbody tr th:only-of-type {\n",
       "        vertical-align: middle;\n",
       "    }\n",
       "\n",
       "    .dataframe tbody tr th {\n",
       "        vertical-align: top;\n",
       "    }\n",
       "\n",
       "    .dataframe thead th {\n",
       "        text-align: right;\n",
       "    }\n",
       "</style>\n",
       "<table border=\"1\" class=\"dataframe\">\n",
       "  <thead>\n",
       "    <tr style=\"text-align: right;\">\n",
       "      <th></th>\n",
       "      <th>country</th>\n",
       "      <th>value</th>\n",
       "      <th>angle</th>\n",
       "    </tr>\n",
       "  </thead>\n",
       "  <tbody>\n",
       "    <tr>\n",
       "      <th>0</th>\n",
       "      <td>float64</td>\n",
       "      <td>10</td>\n",
       "      <td>2.731820</td>\n",
       "    </tr>\n",
       "    <tr>\n",
       "      <th>1</th>\n",
       "      <td>datetime64[ns]</td>\n",
       "      <td>5</td>\n",
       "      <td>1.365910</td>\n",
       "    </tr>\n",
       "    <tr>\n",
       "      <th>2</th>\n",
       "      <td>int32</td>\n",
       "      <td>4</td>\n",
       "      <td>1.092728</td>\n",
       "    </tr>\n",
       "    <tr>\n",
       "      <th>3</th>\n",
       "      <td>object</td>\n",
       "      <td>4</td>\n",
       "      <td>1.092728</td>\n",
       "    </tr>\n",
       "  </tbody>\n",
       "</table>\n",
       "</div>"
      ],
      "text/plain": [
       "          country  value     angle\n",
       "0         float64     10  2.731820\n",
       "1  datetime64[ns]      5  1.365910\n",
       "2           int32      4  1.092728\n",
       "3          object      4  1.092728"
      ]
     },
     "execution_count": 29,
     "metadata": {},
     "output_type": "execute_result"
    }
   ],
   "source": [
    "data_fix['angle'] = data_fix['value']/data_fix['value'].sum() * 2*pi\n",
    "data_fix"
   ]
  },
  {
   "cell_type": "code",
   "execution_count": 31,
   "metadata": {},
   "outputs": [
    {
     "data": {
      "text/html": [
       "<div>\n",
       "<style scoped>\n",
       "    .dataframe tbody tr th:only-of-type {\n",
       "        vertical-align: middle;\n",
       "    }\n",
       "\n",
       "    .dataframe tbody tr th {\n",
       "        vertical-align: top;\n",
       "    }\n",
       "\n",
       "    .dataframe thead th {\n",
       "        text-align: right;\n",
       "    }\n",
       "</style>\n",
       "<table border=\"1\" class=\"dataframe\">\n",
       "  <thead>\n",
       "    <tr style=\"text-align: right;\">\n",
       "      <th></th>\n",
       "      <th>country</th>\n",
       "      <th>value</th>\n",
       "      <th>angle</th>\n",
       "      <th>color</th>\n",
       "    </tr>\n",
       "  </thead>\n",
       "  <tbody>\n",
       "    <tr>\n",
       "      <th>0</th>\n",
       "      <td>float64</td>\n",
       "      <td>10</td>\n",
       "      <td>2.731820</td>\n",
       "      <td>#238b45</td>\n",
       "    </tr>\n",
       "    <tr>\n",
       "      <th>1</th>\n",
       "      <td>datetime64[ns]</td>\n",
       "      <td>5</td>\n",
       "      <td>1.365910</td>\n",
       "      <td>#66c2a4</td>\n",
       "    </tr>\n",
       "    <tr>\n",
       "      <th>2</th>\n",
       "      <td>int32</td>\n",
       "      <td>4</td>\n",
       "      <td>1.092728</td>\n",
       "      <td>#b2e2e2</td>\n",
       "    </tr>\n",
       "    <tr>\n",
       "      <th>3</th>\n",
       "      <td>object</td>\n",
       "      <td>4</td>\n",
       "      <td>1.092728</td>\n",
       "      <td>#edf8fb</td>\n",
       "    </tr>\n",
       "  </tbody>\n",
       "</table>\n",
       "</div>"
      ],
      "text/plain": [
       "          country  value     angle    color\n",
       "0         float64     10  2.731820  #238b45\n",
       "1  datetime64[ns]      5  1.365910  #66c2a4\n",
       "2           int32      4  1.092728  #b2e2e2\n",
       "3          object      4  1.092728  #edf8fb"
      ]
     },
     "execution_count": 31,
     "metadata": {},
     "output_type": "execute_result"
    }
   ],
   "source": [
    "data_fix['color'] = BuGn[len(studentDict)]\n",
    "data_fix"
   ]
  },
  {
   "cell_type": "code",
   "execution_count": 32,
   "metadata": {},
   "outputs": [],
   "source": [
    "\n",
    "\n",
    "p = figure(height=350, title=\"Pie Chart\", toolbar_location=None,\n",
    "           tools=\"hover\", tooltips=\"@country: @value\", x_range=(-0.5, 1.0))\n",
    "\n",
    "p.wedge(x=0, y=1, radius=0.4,\n",
    "        start_angle=cumsum('angle', include_zero=True), end_angle=cumsum('angle'),\n",
    "        line_color=\"white\", fill_color='color', legend_field='country', source=data_fix)\n",
    "\n",
    "p.axis.axis_label = None\n",
    "p.axis.visible = False\n",
    "p.grid.grid_line_color = None\n",
    "\n",
    "show(p)"
   ]
  },
  {
   "cell_type": "code",
   "execution_count": null,
   "metadata": {},
   "outputs": [],
   "source": [
    "pd.DataFrame(df['Buchungskreis'].describe()).reset_index(drop=False)"
   ]
  }
 ],
 "metadata": {
  "kernelspec": {
   "display_name": "Python 3.9.8 64-bit",
   "language": "python",
   "name": "python3"
  },
  "language_info": {
   "codemirror_mode": {
    "name": "ipython",
    "version": 3
   },
   "file_extension": ".py",
   "mimetype": "text/x-python",
   "name": "python",
   "nbconvert_exporter": "python",
   "pygments_lexer": "ipython3",
   "version": "3.9.8"
  },
  "orig_nbformat": 4,
  "vscode": {
   "interpreter": {
    "hash": "bf7be38432cb5cd684084a065b451ab9ac39d49a81b40a2b0050c22bb6a95e46"
   }
  }
 },
 "nbformat": 4,
 "nbformat_minor": 2
}
